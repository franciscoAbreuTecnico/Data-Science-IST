{
 "cells": [
  {
   "cell_type": "code",
   "execution_count": 10,
   "metadata": {},
   "outputs": [],
   "source": [
    "# Imports\n",
    "import pandas as pd\n",
    "\n",
    "from dslabs_functions import (\n",
    "    get_variable_types,plot_multibar_chart,\n",
    "    mvi_by_filling,\n",
    "    evaluate_approach)\n",
    "\n",
    "from numpy import ndarray\n",
    "from pandas import DataFrame, read_csv\n",
    "from matplotlib.pyplot import savefig, show, figure\n",
    "from pandas import read_csv, DataFrame, Series\n",
    "from dslabs_functions import (\n",
    "    NR_STDEV,\n",
    "    get_variable_types,\n",
    "    determine_outlier_thresholds_for_var,\n",
    ")\n",
    "from sklearn.model_selection import train_test_split\n"
   ]
  },
  {
   "cell_type": "code",
   "execution_count": 12,
   "metadata": {},
   "outputs": [],
   "source": [
    "# Read\n",
    "filename = 'class_pos_covid_derived.csv'\n",
    "file_tag = 'covid_fig_'\n",
    "data = pd.read_csv(filename, sep=',', decimal='.', na_values='')\n",
    "\n",
    "\n",
    "variable_types = get_variable_types(data)\n",
    "symbolic: list[str] = variable_types[\"symbolic\"]\n",
    "data[symbolic] = data[symbolic].apply(lambda x: x.astype(\"category\"))\n",
    "variables_types: dict[str, list] = get_variable_types(data)\n",
    "# TODO why is Sex not in categorical?\n"
   ]
  },
  {
   "cell_type": "code",
   "execution_count": 13,
   "metadata": {},
   "outputs": [],
   "source": [
    "state_values =  { \n",
    "    \"Alabama\": [32.318230, -86.902298],\n",
    "    \"Alaska\": [66.160507, -153.369141],\n",
    "    \"Arizona\": [34.048927, -111.093735],\n",
    "    \"Arkansas\": [34.799999, -92.199997],\n",
    "    \"California\": [36.778259, -119.417931],\n",
    "    \"Colorado\": [39.113014, -105.358887],\n",
    "    \"Connecticut\": [41.599998, -72.699997],\n",
    "    \"Delaware\": [39.0, -75.5],\n",
    "    \"District of Columbia\": [38.9072, -77.0369],\n",
    "    \"Florida\": [27.994402, -81.760254],\n",
    "    \"Georgia\": [33.247875, -83.441162],\n",
    "    \"Guam\": [13.444304, 144.793732],\n",
    "    \"Hawaii\": [19.741755, -155.844437],\n",
    "    \"Idaho\": [44.068203, -114.742043],\n",
    "    \"Illinois\": [40.0, -89.0],      \n",
    "    \"Indiana\": [40.273502, -86.126976],\n",
    "    \"Iowa\": [42.032974, -93.581543],\n",
    "    \"Kansas\": [38.5, -98.0],\n",
    "    \"Kentucky\": [37.839333, -84.270020],\n",
    "    \"Louisiana\": [30.391830, -92.329102],\n",
    "    \"Maine\": [45.367584, -68.972168],\n",
    "    \"Maryland\": [39.045753, -76.641273],\n",
    "    \"Massachusetts\": [42.407211, -71.382439],\n",
    "    \"Michigan\": [44.182205, -84.506836],\n",
    "    \"Minnesota\": [46.392410, -94.636230],\n",
    "    \"Mississippi\": [33.0, -90.0],\n",
    "    \"Missouri\": [38.573936, -92.603760],\n",
    "    \"Montana\": [46.965260, -109.533691],\n",
    "    \"Nebraska\": [41.500000, -100.000000],\n",
    "    \"Nevada\": [39.876019, -117.224121],\n",
    "    \"New Hampshire\": [44.0, -71.5],\n",
    "    \"New Jersey\": [39.833851, -74.871826],\n",
    "    \"New Mexico\": [34.307144, -106.018066],\n",
    "    \"New York\": [43.000000, -75.000000],\n",
    "    \"North Carolina\": [35.782169, -80.793457],\n",
    "    \"North Dakota\": [47.650589, -100.437012],\n",
    "    \"Ohio\": [40.367474, -82.996216],\n",
    "    \"Oklahoma\": [36.084621, -96.921387],\n",
    "    \"Oregon\": [44.000000, -120.500000],\n",
    "    \"Pennsylvania\": [41.203323, -77.194527],\n",
    "    \"Puerto Rico\": [18.2208, -66.5901],\n",
    "    \"Rhode Island\": [41.700001, -71.500000],\n",
    "    \"South Carolina\": [33.836082, -81.163727],\n",
    "    \"South Dakota\": [44.500000, -100.000000],\n",
    "    \"Tennessee\": [35.860119, -86.660156],\n",
    "    \"Texas\": [31.000000, -100.000000],\n",
    "    \"Utah\": [39.419220, -111.950684],\n",
    "    \"Vermont\": [44.000000, -72.699997],\n",
    "    \"Virginia\": [37.926868, -78.024902],\n",
    "    \"Virgin Islands\": [18.3358, -64.8963],\n",
    "    \"Washington\": [47.751076, -120.740135],\n",
    "    \"West Virginia\": [39.000000, -80.500000],\n",
    "    \"Wisconsin\": [44.500000, -89.500000],\n",
    "    \"Wyoming\": [43.075970, -107.290283]\n",
    "}\n",
    "\n",
    "# create two new columns in the dataframe with the latitude and longitude values\n",
    "data[\"Latitude\"] = data[\"State\"].apply(lambda x: state_values[x][0])\n",
    "data[\"Longitude\"] = data[\"State\"].apply(lambda x: state_values[x][1])\n",
    "min_long = abs(data[\"Longitude\"].min())\n",
    "data[\"Longitude\"] = data[\"Longitude\"].apply(lambda x: x + min_long) # to not have negative values for the models\n",
    "\n",
    "data.drop(['State'], axis=1, inplace=True)\n",
    "# 0.2s"
   ]
  },
  {
   "cell_type": "code",
   "execution_count": 14,
   "metadata": {},
   "outputs": [],
   "source": [
    "# GeneralHealth ['Very good', 'Good', 'Excellent', 'Poor', 'Fair']\n",
    "general_values = {\n",
    "    \"Excellent\": 4,\n",
    "    \"Very good\": 3,\n",
    "    \"Good\": 2,\n",
    "    \"Fair\": 1,\n",
    "    \"Poor\": 0,\n",
    "}\n",
    "\n",
    "# LastCheckupTime ['Within past year (anytime less than 12 months ago)', 'Within past 2 years (1 year but less than 2 years ago)', '5 or more years ago', 'Within past 5 years (2 years but less than 5 years ago)']\n",
    "last_values = {\n",
    "    \"Within past year (anytime less than 12 months ago)\": 0,\n",
    "    \"Within past 2 years (1 year but less than 2 years ago)\": 1,\n",
    "    \"Within past 5 years (2 years but less than 5 years ago)\": 2,\n",
    "    \"5 or more years ago\": 3,\n",
    "}\n",
    "\n",
    "# RemovedTeeth ['None of them', '1 to 5', '6 or more, but not all', 'All']\n",
    "teeth_values = {\n",
    "    \"None of them\": 0,\n",
    "    \"1 to 5\": 1,\n",
    "    \"6 or more, but not all\": 2,\n",
    "    \"All\": 3,\n",
    "}\n",
    "\n",
    "# HadDiabetes ['No',  'Yes',  'Yes, but only during pregnancy (female)', 'No, pre-diabetes or borderline diabetes']\n",
    "diabetes_values = {\n",
    "    'No': 0,\n",
    "    'No, pre-diabetes or borderline diabetes': 1,\n",
    "    'Yes, but only during pregnancy (female)': 2,\n",
    "    'Yes': 3,\n",
    "}\n",
    "\n",
    "# SmokerStatus ['Former smoker', 'Never smoked', 'Current smoker - now smokes every day', 'Current smoker - now smokes some days']\n",
    "smoker_values = {\n",
    "    'Never smoked': 0,\n",
    "    'Former smoker': 1,\n",
    "    'Current smoker - now smokes some days': 2,\n",
    "    'Current smoker - now smokes every day': 3,\n",
    "}\n",
    "\n",
    "# ECigaretteUsage ['Never used e-cigarettes in my entire life', 'Use them some days', 'Not at all (right now)', 'Use them every day']\n",
    "ecig_values = {\n",
    "    'Never used e-cigarettes in my entire life': 0,\n",
    "    'Not at all (right now)': 1,\n",
    "    'Use them some days': 2,\n",
    "    'Use them every day': 3,\n",
    "}\n",
    "\n",
    "# TODO confirm this\n",
    "# RaceEthnicityCategory ['White only, Non-Hispanic', 'Black only, Non-Hispanic', 'Multiracial, Non-Hispanic', 'Other race only, Non-Hispanic', 'Hispanic']\n",
    "race_values = {\n",
    "    'White only, Non-Hispanic': 0,\n",
    "    'Black only, Non-Hispanic': 1,\n",
    "    'Multiracial, Non-Hispanic': 2,\n",
    "    'Other race only, Non-Hispanic': 3,\n",
    "    'Hispanic': 4,\n",
    "}\n",
    "\n",
    "# \"AgeCategory ['Age 65 to 69', 'Age 70 to 74', 'Age 80 or older', 'Age 50 to 54', 'Age 75 to 79', 'Age 60 to 64', 'Age 55 to 59', 'Age 45 to 49', 'Age 40 to 44', 'Age 25 to 29', 'Age 30 to 34', 'Age 18 to 24', 'Age 35 to 39']\"\n",
    "age_values = {\n",
    "    'Age 18 to 24': 0,\n",
    "    'Age 25 to 29': 1,\n",
    "    'Age 30 to 34': 2,\n",
    "    'Age 35 to 39': 3,\n",
    "    'Age 40 to 44': 4,\n",
    "    'Age 45 to 49': 5,\n",
    "    'Age 50 to 54': 6,\n",
    "    'Age 55 to 59': 7,\n",
    "    'Age 60 to 64': 8,\n",
    "    'Age 65 to 69': 9,\n",
    "    'Age 70 to 74': 10,\n",
    "    'Age 75 to 79': 11,\n",
    "    'Age 80 or older': 12,\n",
    "}\n",
    "\n",
    "# TODO confirm if this is the best way to do this\n",
    "# \"TetanusLast10Tdap ['Yes, received Tdap', 'Yes, received tetanus shot but not sure what type', 'No, did not receive any tetanus shot in the past 10 years', 'Yes, received tetanus shot, but not Tdap']\"\n",
    "tetanus_values = {\n",
    "    'No, did not receive any tetanus shot in the past 10 years': 0,\n",
    "    'Yes, received tetanus shot, but not Tdap': 1,\n",
    "    'Yes, received tetanus shot but not sure what type': 2,\n",
    "    'Yes, received Tdap': 3,\n",
    "}\n",
    "\n",
    "\n",
    "encoding: dict[str, dict[str, int]] = {\n",
    "    \"GeneralHealth\": general_values,\n",
    "    \"LastCheckupTime\": last_values,\n",
    "    \"RemovedTeeth\": teeth_values,\n",
    "    \"HadDiabetes\": diabetes_values,\n",
    "    \"SmokerStatus\": smoker_values,\n",
    "    \"ECigaretteUsage\": ecig_values,\n",
    "    \"RaceEthnicityCategory\": race_values,\n",
    "    \"AgeCategory\": age_values,\n",
    "    \"TetanusLast10Tdap\": tetanus_values,\n",
    "    # \"Region\": region_values, TODO have to confirm this\n",
    "    # \"AgeGroup\": age_group_values,\n",
    "}\n",
    "\n",
    "data = data.replace(encoding, inplace=False)\n",
    "data.head()\n",
    "\n",
    "# drop age group and region\n",
    "data.drop(['AgeGroup', 'Region'], axis=1, inplace=True)"
   ]
  },
  {
   "cell_type": "code",
   "execution_count": 15,
   "metadata": {},
   "outputs": [],
   "source": [
    "binaries = variable_types[\"binary\"]\n",
    "\n",
    "# make all the binary variables fine for classification\n",
    "for binary in binaries:\n",
    "    data[binary] = data[binary].apply(lambda x: 1 if x == \"Yes\" else x)\n",
    "    data[binary] = data[binary].apply(lambda x: 0 if x == \"No\" else x)\n",
    "    data[binary] = data[binary].apply(lambda x: 0 if x == \"Female\" else x)\n",
    "    data[binary] = data[binary].apply(lambda x: 1 if x == \"Male\" else x)\n"
   ]
  },
  {
   "cell_type": "code",
   "execution_count": 16,
   "metadata": {},
   "outputs": [],
   "source": [
    "# save data to csv\n",
    "data.to_csv('class_pos_covid_derived_prepared.csv', index=False)"
   ]
  },
  {
   "cell_type": "markdown",
   "metadata": {},
   "source": [
    "### Missing Values\n",
    "#### Drop"
   ]
  },
  {
   "cell_type": "code",
   "execution_count": 17,
   "metadata": {},
   "outputs": [],
   "source": [
    "# read class_pos_covid_derived_prepared\n",
    "filename = 'class_pos_covid_derived_prepared.csv'\n",
    "data = pd.read_csv(filename, sep=',', decimal='.', na_values='')\n"
   ]
  },
  {
   "cell_type": "code",
   "execution_count": 18,
   "metadata": {},
   "outputs": [
    {
     "name": "stdout",
     "output_type": "stream",
     "text": [
      "(380932, 41)\n",
      "(237630, 41)\n"
     ]
    }
   ],
   "source": [
    "print(data.shape)\n",
    "\n",
    "df: DataFrame = data.dropna(how=\"any\", inplace=False)\n",
    "print(df.shape)\n"
   ]
  },
  {
   "cell_type": "code",
   "execution_count": 19,
   "metadata": {},
   "outputs": [
    {
     "data": {
      "image/png": "[encoded data removed]",
      "text/plain": [
       "<Figure size 600x450 with 1 Axes>"
      ]
     },
     "metadata": {},
     "output_type": "display_data"
    }
   ],
   "source": [
    "# dropna\n",
    "data.dropna(inplace=True)\n",
    "target = \"CovidPos\"\n",
    "file_tag = \"CovidPos\"\n",
    "# use train test split to create the train and test sets using data variable\n",
    "train: DataFrame = data.sample(frac=0.7, random_state=1)\n",
    "test: DataFrame = data.drop(train.index)\n",
    "\n",
    "figure()\n",
    "eval: dict[str, list] = evaluate_approach(train, test, target=target, metric=\"recall\")\n",
    "plot_multibar_chart(\n",
    "    [\"NB\", \"KNN\"], eval, title=f\"{file_tag} evaluation\", percentage=True\n",
    ")\n",
    "savefig(f\"images/{file_tag}_eval.png\")\n",
    "show()\n",
    "# 3m 30s"
   ]
  },
  {
   "cell_type": "markdown",
   "metadata": {},
   "source": [
    "#### Filling with dummy value (usually: NaN, -1 or 0 for numeric, 'NA' for symbolic and False for boolean)"
   ]
  },
  {
   "cell_type": "code",
   "execution_count": 20,
   "metadata": {},
   "outputs": [],
   "source": [
    "# read class_pos_covid_derived_prepared\n",
    "filename = 'class_pos_covid_derived_prepared.csv'\n",
    "data = pd.read_csv(filename, sep=',', decimal='.', na_values='')\n"
   ]
  },
  {
   "cell_type": "code",
   "execution_count": 21,
   "metadata": {},
   "outputs": [
    {
     "name": "stdout",
     "output_type": "stream",
     "text": [
      "(380932, 41)\n"
     ]
    },
    {
     "data": {
      "text/plain": [
       "(380932, 41)"
      ]
     },
     "execution_count": 21,
     "metadata": {},
     "output_type": "execute_result"
    }
   ],
   "source": [
    "# show aa row that has a missing value\n",
    "data[data.isnull().any(axis=1)].head(1)\n",
    "\n",
    "# get variable types\n",
    "variable_types = get_variable_types(data)\n",
    "\n",
    "# all the missing values of the binary variables are filled with 0\n",
    "binaries = variable_types[\"binary\"]\n",
    "data[binaries] = data[binaries].apply(lambda x: x.fillna(0))\n",
    "\n",
    "# all the missing values of the numeric (and categorical bcs already changed them) variables are filled with 999 because it cant be a negative value... TODO ceck if this makes sense\n",
    "numeric: list[str] = variable_types[\"numeric\"]\n",
    "data[numeric] = data[numeric].apply(lambda x: x.fillna(999)) \n",
    "\n",
    "print(data.shape)\n",
    "data.shape"
   ]
  },
  {
   "cell_type": "code",
   "execution_count": 22,
   "metadata": {},
   "outputs": [
    {
     "data": {
      "image/png": "[encoded data removed]",
      "text/plain": [
       "<Figure size 600x450 with 1 Axes>"
      ]
     },
     "metadata": {},
     "output_type": "display_data"
    }
   ],
   "source": [
    "# dropna\n",
    "data.dropna(inplace=True)\n",
    "target = \"CovidPos\"\n",
    "file_tag = \"CovidPos\"\n",
    "# use train test split to create the train and test sets using data variable\n",
    "train: DataFrame = data.sample(frac=0.7, random_state=1)\n",
    "test: DataFrame = data.drop(train.index)\n",
    "\n",
    "figure()\n",
    "eval: dict[str, list] = evaluate_approach(train, test, target=target, metric=\"recall\")\n",
    "plot_multibar_chart(\n",
    "    [\"NB\", \"KNN\"], eval, title=f\"{file_tag} evaluation\", percentage=True\n",
    ")\n",
    "savefig(f\"images/{file_tag}_eval_dummy.png\")\n",
    "show()\n",
    "# 8m 30s"
   ]
  },
  {
   "cell_type": "markdown",
   "metadata": {},
   "source": [
    "#### Filling with mean and most_frequent value"
   ]
  },
  {
   "cell_type": "code",
   "execution_count": 23,
   "metadata": {},
   "outputs": [],
   "source": [
    "# read class_pos_covid_derived_prepared\n",
    "filename = 'class_pos_covid_derived_prepared.csv'\n",
    "data = pd.read_csv(filename, sep=',', decimal='.', na_values='')\n"
   ]
  },
  {
   "cell_type": "code",
   "execution_count": 24,
   "metadata": {},
   "outputs": [],
   "source": [
    "# TODO check one examploe to see if its working\n",
    "\n",
    "categorical = [\"GeneralHealth\", \"LastCheckupTime\", \"RemovedTeeth\", \"HadDiabetes\", \"SmokerStatus\", \"ECigaretteUsage\", \"RaceEthnicityCategory\", \"AgeCategory\", \"TetanusLast10Tdap\", \"Longitude\", \"Latitude\"]\n",
    "# fill missing values with the most frequent value\n",
    "for cat in categorical:\n",
    "    frequent_value = data[cat].mode()[0]\n",
    "    data[cat] = data[cat].fillna(frequent_value)\n",
    "\n",
    "# fill the missing values with the mean of that column\n",
    "numeric = \"PhysicalHealthDays\", \"MentalHealthDays\", \"SleepHours\", \"HeightInMeters\", \"WeightInKilograms\", \"BMI\"\n",
    "for num in numeric:\n",
    "    mean_value = data[num].mean()\n",
    "    data[num] = data[num].fillna(mean_value)"
   ]
  },
  {
   "cell_type": "code",
   "execution_count": 25,
   "metadata": {},
   "outputs": [
    {
     "data": {
      "image/png": "[encoded data removed]",
      "text/plain": [
       "<Figure size 600x450 with 1 Axes>"
      ]
     },
     "metadata": {},
     "output_type": "display_data"
    }
   ],
   "source": [
    "# dropna\n",
    "data.dropna(inplace=True)\n",
    "target = \"CovidPos\"\n",
    "file_tag = \"CovidPos\"\n",
    "# use train test split to create the train and test sets using data variable\n",
    "train: DataFrame = data.sample(frac=0.7, random_state=1)\n",
    "test: DataFrame = data.drop(train.index)\n",
    "\n",
    "figure()\n",
    "eval: dict[str, list] = evaluate_approach(train, test, target=target, metric=\"recall\")\n",
    "plot_multibar_chart(\n",
    "    [\"NB\", \"KNN\"], eval, title=f\"{file_tag} evaluation\", percentage=True\n",
    ")\n",
    "savefig(f\"images/{file_tag}_eval_mean_frequent.png\")\n",
    "show()\n",
    "# 8m 30s"
   ]
  },
  {
   "cell_type": "markdown",
   "metadata": {},
   "source": [
    "#### Filling with median and most_frequent value"
   ]
  },
  {
   "cell_type": "code",
   "execution_count": 26,
   "metadata": {},
   "outputs": [],
   "source": [
    "# read class_pos_covid_derived_prepared\n",
    "filename = 'class_pos_covid_derived_prepared.csv'\n",
    "data = pd.read_csv(filename, sep=',', decimal='.', na_values='')\n"
   ]
  },
  {
   "cell_type": "code",
   "execution_count": 27,
   "metadata": {},
   "outputs": [],
   "source": [
    "# TODO check one examploe to see if its working\n",
    "\n",
    "categorical = [\"GeneralHealth\", \"LastCheckupTime\", \"RemovedTeeth\", \"HadDiabetes\", \"SmokerStatus\", \"ECigaretteUsage\", \"RaceEthnicityCategory\", \"AgeCategory\", \"TetanusLast10Tdap\", \"Longitude\", \"Latitude\"]\n",
    "# fill missing values with the most frequent value\n",
    "for cat in categorical:\n",
    "    frequent_value = data[cat].mode()[0]\n",
    "    data[cat] = data[cat].fillna(frequent_value)\n",
    "\n",
    "# fill the missing values with the mean of that column\n",
    "numeric = \"PhysicalHealthDays\", \"MentalHealthDays\", \"SleepHours\", \"HeightInMeters\", \"WeightInKilograms\", \"BMI\"\n",
    "for num in numeric:\n",
    "    median_value = data[num].median()\n",
    "    data[num] = data[num].fillna(median_value)"
   ]
  },
  {
   "cell_type": "code",
   "execution_count": 83,
   "metadata": {},
   "outputs": [],
   "source": [
    "# dropna\n",
    "data.dropna(inplace=True)\n",
    "target = \"CovidPos\"\n",
    "file_tag = \"CovidPos\"\n",
    "# use train test split to create the train and test sets using data variable\n",
    "train: DataFrame = data.sample(frac=0.7, random_state=1)\n",
    "test: DataFrame = data.drop(train.index)\n",
    "\n",
    "figure()\n",
    "eval: dict[str, list] = evaluate_approach(train, test, target=target, metric=\"recall\")\n",
    "plot_multibar_chart(\n",
    "    [\"NB\", \"KNN\"], eval, title=f\"{file_tag} evaluation\", percentage=True\n",
    ")\n",
    "savefig(f\"images/{file_tag}_eval_median_frequent.png\")\n",
    "show()\n",
    "# 8m 30s"
   ]
  },
  {
   "cell_type": "markdown",
   "metadata": {},
   "source": [
    "### Choosen MV imputation"
   ]
  },
  {
   "cell_type": "code",
   "execution_count": 56,
   "metadata": {},
   "outputs": [],
   "source": [
    "filename = 'class_pos_covid_derived_prepared.csv'\n",
    "data = pd.read_csv(filename, sep=',', decimal='.', na_values='')\n",
    "\n",
    "categorical = [\"GeneralHealth\", \"LastCheckupTime\", \"RemovedTeeth\", \"HadDiabetes\", \"SmokerStatus\", \"ECigaretteUsage\", \"RaceEthnicityCategory\", \"AgeCategory\", \"TetanusLast10Tdap\", \"Longitude\", \"Latitude\"]\n",
    "for cat in categorical:\n",
    "    frequent_value = data[cat].mode()[0]\n",
    "    data[cat] = data[cat].fillna(frequent_value)\n",
    "\n",
    "# fill the missing values with the mean of that column\n",
    "numeric = \"PhysicalHealthDays\", \"MentalHealthDays\", \"SleepHours\", \"HeightInMeters\", \"WeightInKilograms\", \"BMI\"\n",
    "for num in numeric:\n",
    "    median_value = data[num].median()\n",
    "    data[num] = data[num].fillna(median_value)\n",
    "data.to_csv('class_mv_imputed.csv',index=False)"
   ]
  },
  {
   "cell_type": "markdown",
   "metadata": {},
   "source": [
    "### Drop outliers"
   ]
  },
  {
   "cell_type": "code",
   "execution_count": 62,
   "metadata": {},
   "outputs": [
    {
     "name": "stdout",
     "output_type": "stream",
     "text": [
      "(76187, 41)\n",
      "Original data: (304745, 41)\n",
      "Data after dropping outliers: (136354, 41)\n"
     ]
    }
   ],
   "source": [
    "\n",
    "file_tag = 'CovidPos'\n",
    "data: DataFrame =  pd.read_csv('class_mv_imputed.csv', sep=',', decimal='.', na_values='')\n",
    "data_train, data_test = train_test_split(data, test_size=0.2)\n",
    "print(data_test.shape)\n",
    "print(f\"Original data: {data_train.shape}\")\n",
    "\n",
    "n_std: int = NR_STDEV\n",
    "numeric_vars: list[str] = get_variable_types(data_train)[\"numeric\"]\n",
    "if numeric_vars is not None:\n",
    "    df: DataFrame = data_train.copy(deep=True)\n",
    "    summary5: DataFrame = data_train[numeric_vars].describe()\n",
    "    for var in numeric_vars:\n",
    "        top_threshold, bottom_threshold = determine_outlier_thresholds_for_var(\n",
    "            summary5[var]\n",
    "        )\n",
    "        outliers: Series = df[(df[var] > top_threshold) | (df[var] < bottom_threshold)]\n",
    "        df.drop(outliers.index, axis=0, inplace=True)\n",
    "    df.to_csv(f\"./{file_tag}_train_drop_outliers.csv\", index=False)\n",
    "    print(f\"Data after dropping outliers: {df.shape}\")\n",
    "else:\n",
    "    print(\"There are no numeric variables\")\n"
   ]
  },
  {
   "cell_type": "code",
   "execution_count": 58,
   "metadata": {},
   "outputs": [
    {
     "data": {
      "image/png": "[encoded data removed]",
      "text/plain": [
       "<Figure size 600x450 with 1 Axes>"
      ]
     },
     "metadata": {},
     "output_type": "display_data"
    }
   ],
   "source": [
    "target = \"CovidPos\"\n",
    "file_tag = \"CovidPos\"\n",
    "test = data_test.copy(deep=True)\n",
    "df.dropna(inplace=True)\n",
    "test.dropna(inplace=True)\n",
    "\n",
    "figure()\n",
    "eval: dict[str, list] = evaluate_approach(df,test , target=target, metric=\"recall\")\n",
    "plot_multibar_chart(\n",
    "    [\"NB\", \"KNN\"], eval, title=f\"{file_tag} evaluation\", percentage=True\n",
    ")\n",
    "savefig(f\"images/{file_tag}_drop_outliers.png\")\n",
    "show()"
   ]
  },
  {
   "cell_type": "markdown",
   "metadata": {},
   "source": [
    "### Replacing outliers"
   ]
  },
  {
   "cell_type": "code",
   "execution_count": 65,
   "metadata": {},
   "outputs": [
    {
     "name": "stdout",
     "output_type": "stream",
     "text": [
      "Data after replacing outliers: (304745, 41)\n",
      "                 Sex  GeneralHealth  PhysicalHealthDays  MentalHealthDays  \\\n",
      "count  304745.000000  304745.000000        304745.00000     304745.000000   \n",
      "mean        0.471565       2.515050             1.77703          2.192833   \n",
      "std         0.499192       0.917031             4.00403          4.556272   \n",
      "min         0.000000       1.000000             0.00000          0.000000   \n",
      "25%         0.000000       2.000000             0.00000          0.000000   \n",
      "50%         0.000000       2.000000             0.00000          0.000000   \n",
      "75%         1.000000       3.000000             2.00000          2.000000   \n",
      "max         1.000000       4.000000            21.00000         21.000000   \n",
      "\n",
      "       LastCheckupTime  PhysicalActivities     SleepHours   RemovedTeeth  \\\n",
      "count    304745.000000       304112.000000  304745.000000  304745.000000   \n",
      "mean          0.092996            0.758734       7.026432       0.501245   \n",
      "std           0.290427            0.427852       0.981021       0.677404   \n",
      "min           0.000000            0.000000       5.000000       0.000000   \n",
      "25%           0.000000            1.000000       6.000000       0.000000   \n",
      "50%           0.000000            1.000000       7.000000       0.000000   \n",
      "75%           0.000000            1.000000       8.000000       1.000000   \n",
      "max           1.000000            1.000000       9.000000       2.000000   \n",
      "\n",
      "       HadHeartAttack      HadAngina  ...            BMI  AlcoholDrinkers  \\\n",
      "count   302813.000000  301790.000000  ...  304745.000000    300822.000000   \n",
      "mean         0.058307       0.062136  ...      27.696865         0.522904   \n",
      "std          0.234323       0.241403  ...       4.817749         0.499476   \n",
      "min          0.000000       0.000000  ...      15.820000         0.000000   \n",
      "25%          0.000000       0.000000  ...      24.390000         0.000000   \n",
      "50%          0.000000       0.000000  ...      27.440000         1.000000   \n",
      "75%          0.000000       0.000000  ...      30.410000         1.000000   \n",
      "max          1.000000       1.000000  ...      41.190000         1.000000   \n",
      "\n",
      "          HIVTesting   FluVaxLast12  PneumoVaxEver  TetanusLast10Tdap  \\\n",
      "count  290169.000000  302593.000000  280899.000000      304745.000000   \n",
      "mean        0.338596       0.525134       0.416278           1.383741   \n",
      "std         0.473233       0.499369       0.492942           1.236288   \n",
      "min         0.000000       0.000000       0.000000           0.000000   \n",
      "25%         0.000000       0.000000       0.000000           0.000000   \n",
      "50%         0.000000       1.000000       0.000000           2.000000   \n",
      "75%         1.000000       1.000000       1.000000           2.000000   \n",
      "max         1.000000       1.000000       1.000000           3.000000   \n",
      "\n",
      "       HighRiskLastYear       CovidPos       Latitude      Longitude  \n",
      "count     303541.000000  304745.000000  304745.000000  304745.000000  \n",
      "mean           0.043553       0.291349      40.042150      64.921482  \n",
      "std            0.204098       0.454384       4.868050      15.452163  \n",
      "min            0.000000       0.000000      27.994402      35.104302  \n",
      "25%            0.000000       0.000000      37.839333      55.844437  \n",
      "50%            0.000000       0.000000      40.273502      66.344437  \n",
      "75%            0.000000       1.000000      44.000000      78.649910  \n",
      "max            1.000000       1.000000      47.751076      90.948137  \n",
      "\n",
      "[8 rows x 41 columns]\n"
     ]
    }
   ],
   "source": [
    "\n",
    "if [] != numeric_vars:\n",
    "    df_rep: DataFrame = data_train.copy(deep=True)\n",
    "    for var in numeric_vars:\n",
    "        top, bottom = determine_outlier_thresholds_for_var(summary5[var])\n",
    "        median: float = df_rep[var].median()\n",
    "        df_rep[var] = df_rep[var].apply(lambda x: median if x > top or x < bottom else x)\n",
    "    df_rep.to_csv(f\"./{file_tag}_replacing_outliers.csv\", index=False)\n",
    "    print(\"Data after replacing outliers:\", df_rep.shape)\n",
    "    print(df_rep.describe())\n",
    "else:\n",
    "    print(\"There are no numeric variables\")"
   ]
  },
  {
   "cell_type": "code",
   "execution_count": 69,
   "metadata": {},
   "outputs": [
    {
     "data": {
      "image/png": "[encoded data removed]",
      "text/plain": [
       "<Figure size 600x450 with 1 Axes>"
      ]
     },
     "metadata": {},
     "output_type": "display_data"
    }
   ],
   "source": [
    "test = data_test.copy(deep=True)\n",
    "df_rep.dropna(inplace=True)\n",
    "test.dropna(inplace=True)\n",
    "figure()\n",
    "eval: dict[str, list] = evaluate_approach(df_rep,test , target=target, metric=\"recall\")\n",
    "plot_multibar_chart(\n",
    "    [\"NB\", \"KNN\"], eval, title=f\"{file_tag} evaluation\", percentage=True\n",
    ")\n",
    "savefig(f\"images/{file_tag}_replace_outliers.png\")\n",
    "show()\n",
    "\n"
   ]
  },
  {
   "cell_type": "code",
   "execution_count": null,
   "metadata": {},
   "outputs": [],
   "source": []
  }
 ],
 "metadata": {
  "kernelspec": {
   "display_name": "Python 3",
   "language": "python",
   "name": "python3"
  },
  "language_info": {
   "codemirror_mode": {
    "name": "ipython",
    "version": 3
   },
   "file_extension": ".py",
   "mimetype": "text/x-python",
   "name": "python",
   "nbconvert_exporter": "python",
   "pygments_lexer": "ipython3",
   "version": "3.12.0"
  }
 },
 "nbformat": 4,
 "nbformat_minor": 2
}
