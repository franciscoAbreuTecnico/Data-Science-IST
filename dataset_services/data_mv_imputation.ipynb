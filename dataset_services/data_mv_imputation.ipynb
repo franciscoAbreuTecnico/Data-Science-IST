{
 "cells": [
  {
   "cell_type": "markdown",
   "metadata": {},
   "source": [
    "# Projeto"
   ]
  },
  {
   "cell_type": "markdown",
   "metadata": {},
   "source": [
    "## Data Preparation"
   ]
  },
  {
   "cell_type": "markdown",
   "metadata": {},
   "source": [
    "### 3 Alternativas (atleast 2):\n",
    "1. Eliminate Columns & Rows bove certain Threshold\n",
    "- **1.1** Eliminate Columns with percentage(%) of Missing Values above 15% 'Credit_Mix' && 'Monthly_Inhand_Salary'\n",
    "- **1.2** Eliminate Rows with percentage(%) of Missing Values above 16%\n",
    "- **1.3** Fill Missing Values using Mean for Numerics and Most-frequent to Symbolic\n",
    "\n",
    "2. Filling Missing Values (median & most_frequent)\n",
    "\n",
    "3. Don´t eliminate any Columns or Rows (knnimputer)"
   ]
  },
  {
   "cell_type": "code",
   "execution_count": 1,
   "metadata": {},
   "outputs": [
    {
     "name": "stdout",
     "output_type": "stream",
     "text": [
      "Dataset nr records=100000 nr variables=32\n"
     ]
    }
   ],
   "source": [
    "import pandas as pd\n",
    "from matplotlib.pyplot import figure, show\n",
    "from sklearn.impute import SimpleImputer\n",
    "import dslabs_functions as dslabs\n",
    "from sklearn.model_selection import train_test_split\n",
    "from matplotlib.pyplot import savefig\n",
    "from sklearn.impute import KNNImputer\n",
    "\n",
    "filename = 'data_preparation_csvs/enconding_csvs/data_encoded.csv'\n",
    "data_encoded: pd.DataFrame = pd.read_csv(filename, index_col='ID', sep=',', decimal='.', na_values='')\n",
    "print(f\"Dataset nr records={data_encoded.shape[0]}\", f\"nr variables={data_encoded.shape[1]}\")\n",
    "##print(data_encoded.dtypes)\n",
    "\n",
    "most_frequent = ['Month', 'Occupation', 'Payment_of_Min_Amount', 'Credit_Mix', 'Monthly_Inhand_Salary'\n",
    "                 , 'Payment_Behaviour', 'Payday Loan', 'Personal Loan', 'Debt Consolidation Loan'\n",
    "                 , 'Auto Loan', 'Not Specified Loan', 'Student Loan', 'Credit-Builder Loan'\n",
    "                 , 'Mortgage Loan', 'Home Equity Loan', 'Credit_Score']\n",
    "\n",
    "## Strategies to be used\n",
    "imputer_mean = SimpleImputer(strategy='mean')\n",
    "imputer_mode = SimpleImputer(strategy='most_frequent')\n",
    "imputer_median = SimpleImputer(strategy='median')\n"
   ]
  },
  {
   "cell_type": "markdown",
   "metadata": {},
   "source": [
    "### Missing Values Imputation"
   ]
  },
  {
   "cell_type": "code",
   "execution_count": 2,
   "metadata": {},
   "outputs": [
    {
     "name": "stderr",
     "output_type": "stream",
     "text": [
      "  File \"c:\\Users\\franc\\AppData\\Local\\Programs\\Python\\Python312\\Lib\\site-packages\\joblib\\externals\\loky\\backend\\context.py\", line 282, in _count_physical_cores\n",
      "    raise ValueError(f\"found {cpu_count_physical} physical cores < 1\")\n"
     ]
    },
    {
     "ename": "KeyError",
     "evalue": "'NB'",
     "output_type": "error",
     "traceback": [
      "\u001b[1;31m---------------------------------------------------------------------------\u001b[0m",
      "\u001b[1;31mKeyError\u001b[0m                                  Traceback (most recent call last)",
      "\u001b[1;32mc:\\Users\\franc\\Desktop\\TECNICO\\Cadeiras\\1_semestre\\2Periodo\\CD\\Projeto\\CD_IST\\dataset_services\\data_mv_imputation.ipynb Cell 6\u001b[0m line \u001b[0;36m3\n\u001b[0;32m     <a href='vscode-notebook-cell:/c%3A/Users/franc/Desktop/TECNICO/Cadeiras/1_semestre/2Periodo/CD/Projeto/CD_IST/dataset_services/data_mv_imputation.ipynb#W5sZmlsZQ%3D%3D?line=33'>34</a>\u001b[0m target \u001b[39m=\u001b[39m \u001b[39m\"\u001b[39m\u001b[39mCredit_Score\u001b[39m\u001b[39m\"\u001b[39m\n\u001b[0;32m     <a href='vscode-notebook-cell:/c%3A/Users/franc/Desktop/TECNICO/Cadeiras/1_semestre/2Periodo/CD/Projeto/CD_IST/dataset_services/data_mv_imputation.ipynb#W5sZmlsZQ%3D%3D?line=35'>36</a>\u001b[0m figure()\n\u001b[1;32m---> <a href='vscode-notebook-cell:/c%3A/Users/franc/Desktop/TECNICO/Cadeiras/1_semestre/2Periodo/CD/Projeto/CD_IST/dataset_services/data_mv_imputation.ipynb#W5sZmlsZQ%3D%3D?line=36'>37</a>\u001b[0m \u001b[39meval\u001b[39m: \u001b[39mdict\u001b[39m[\u001b[39mstr\u001b[39m, \u001b[39mlist\u001b[39m] \u001b[39m=\u001b[39m dslabs\u001b[39m.\u001b[39;49mevaluate_approach_2(train_data, test_data, target\u001b[39m=\u001b[39;49mtarget, metric\u001b[39m=\u001b[39;49m\u001b[39m\"\u001b[39;49m\u001b[39mrecall\u001b[39;49m\u001b[39m\"\u001b[39;49m)\n\u001b[0;32m     <a href='vscode-notebook-cell:/c%3A/Users/franc/Desktop/TECNICO/Cadeiras/1_semestre/2Periodo/CD/Projeto/CD_IST/dataset_services/data_mv_imputation.ipynb#W5sZmlsZQ%3D%3D?line=37'>38</a>\u001b[0m dslabs\u001b[39m.\u001b[39mplot_multibar_chart(\n\u001b[0;32m     <a href='vscode-notebook-cell:/c%3A/Users/franc/Desktop/TECNICO/Cadeiras/1_semestre/2Periodo/CD/Projeto/CD_IST/dataset_services/data_mv_imputation.ipynb#W5sZmlsZQ%3D%3D?line=38'>39</a>\u001b[0m     [\u001b[39m\"\u001b[39m\u001b[39mNB\u001b[39m\u001b[39m\"\u001b[39m, \u001b[39m\"\u001b[39m\u001b[39mKNN\u001b[39m\u001b[39m\"\u001b[39m], \u001b[39meval\u001b[39m, title\u001b[39m=\u001b[39m\u001b[39mf\u001b[39m\u001b[39m\"\u001b[39m\u001b[39m{\u001b[39;00mfile_tag\u001b[39m}\u001b[39;00m\u001b[39m Approach 1 MV Imputation\u001b[39m\u001b[39m\"\u001b[39m, percentage\u001b[39m=\u001b[39m\u001b[39mTrue\u001b[39;00m\n\u001b[0;32m     <a href='vscode-notebook-cell:/c%3A/Users/franc/Desktop/TECNICO/Cadeiras/1_semestre/2Periodo/CD/Projeto/CD_IST/dataset_services/data_mv_imputation.ipynb#W5sZmlsZQ%3D%3D?line=39'>40</a>\u001b[0m )\n\u001b[0;32m     <a href='vscode-notebook-cell:/c%3A/Users/franc/Desktop/TECNICO/Cadeiras/1_semestre/2Periodo/CD/Projeto/CD_IST/dataset_services/data_mv_imputation.ipynb#W5sZmlsZQ%3D%3D?line=40'>41</a>\u001b[0m savefig(\u001b[39mf\u001b[39m\u001b[39m\"\u001b[39m\u001b[39mdata_preparation_images/missing_values_imputation_result/data_mv_alt1.png\u001b[39m\u001b[39m\"\u001b[39m)\n",
      "File \u001b[1;32mc:\\Users\\franc\\Desktop\\TECNICO\\Cadeiras\\1_semestre\\2Periodo\\CD\\Projeto\\CD_IST\\dataset_services\\dslabs_functions.py:954\u001b[0m, in \u001b[0;36mevaluate_approach_2\u001b[1;34m(train, test, target, metric)\u001b[0m\n\u001b[0;32m    952\u001b[0m \u001b[39m# Plotting\u001b[39;00m\n\u001b[0;32m    953\u001b[0m fig, ax \u001b[39m=\u001b[39m plt\u001b[39m.\u001b[39msubplots(\u001b[39m1\u001b[39m, \u001b[39m2\u001b[39m, figsize\u001b[39m=\u001b[39m(\u001b[39m12\u001b[39m, \u001b[39m5\u001b[39m))\n\u001b[1;32m--> 954\u001b[0m cnf_matrix \u001b[39m=\u001b[39m confusion_matrix(tstY, predictions[\u001b[39m'\u001b[39;49m\u001b[39mNB\u001b[39;49m\u001b[39m'\u001b[39;49m])\n\u001b[0;32m    955\u001b[0m plot_confusion_matrix(cnf_matrix, np\u001b[39m.\u001b[39munique(tstY), ax\u001b[39m=\u001b[39max[\u001b[39m0\u001b[39m])\n\u001b[0;32m    956\u001b[0m plot_roc_chart(tstY, predictions, ax\u001b[39m=\u001b[39max[\u001b[39m1\u001b[39m], target\u001b[39m=\u001b[39mtarget)\n",
      "\u001b[1;31mKeyError\u001b[0m: 'NB'"
     ]
    },
    {
     "data": {
      "text/plain": [
       "<Figure size 600x450 with 0 Axes>"
      ]
     },
     "metadata": {},
     "output_type": "display_data"
    },
    {
     "data": {
      "image/png": "[encoded data removed]",
      "text/plain": [
       "<Figure size 1800x750 with 2 Axes>"
      ]
     },
     "metadata": {},
     "output_type": "display_data"
    }
   ],
   "source": [
    "# Alternativa 1\n",
    "\n",
    "## 1.1 && 1.2\n",
    "data_mv_alt1: pd.DataFrame = dslabs.mvi_by_dropping(data_encoded, min_pct_per_variable=0.85, min_pct_per_record=0.84)\n",
    "# Define the columns that will be imputed with the most frequent value\n",
    "most_frequent_alt1 = ['Month', 'Occupation', 'Payment_of_Min_Amount'\n",
    "                 , 'Payment_Behaviour', 'Payday Loan', 'Personal Loan', 'Debt Consolidation Loan'\n",
    "                 , 'Auto Loan', 'Not Specified Loan', 'Student Loan', 'Credit-Builder Loan'\n",
    "                 , 'Mortgage Loan', 'Home Equity Loan', 'Credit_Score']\n",
    "\n",
    "## 1.3\n",
    "mv_alt1_mode = data_mv_alt1[most_frequent_alt1]\n",
    "mv_alt2_mean = data_mv_alt1.drop(columns=most_frequent_alt1)\n",
    "\n",
    "mode_imputed = pd.DataFrame(imputer_mode.fit_transform(mv_alt1_mode), columns=mv_alt1_mode.columns)\n",
    "mean_imputed = pd.DataFrame(imputer_mean.fit_transform(mv_alt2_mean), columns=mv_alt2_mean.columns)\n",
    "\n",
    "data_mv_alt1 = pd.concat([mode_imputed, mean_imputed], axis=1)\n",
    "\n",
    "# negative_value_counts = (data_mv_alt1 < 0).sum()\n",
    "# print(negative_value_counts)\n",
    "\n",
    "data_mv_alt1.to_csv('data_preparation_csvs/mv_imputation_csvs/data_mv_alt1.csv', index=False)\n",
    "\n",
    "## Separate into Train and Test and save in different files\n",
    "train_data, test_data = train_test_split(data_mv_alt1, test_size=0.2, random_state=42)\n",
    "\n",
    "## Save the training and testing sets to CSV files\n",
    "train_data.to_csv('data_preparation_csvs/mv_imputation_csvs/train_data_mv_alt1.csv', index=False)\n",
    "test_data.to_csv('data_preparation_csvs/mv_imputation_csvs/test_data_mv_alt1.csv', index=False)\n",
    "\n",
    "## Evaluate Approach\n",
    "file_tag = \"Credit_Score\"\n",
    "target = \"Credit_Score\"\n",
    "\n",
    "figure()\n",
    "eval: dict[str, list] = dslabs.evaluate_approach(train_data, test_data, target=target, metric=\"recall\")\n",
    "dslabs.plot_multibar_chart(\n",
    "    [\"NB\", \"KNN\"], eval, title=f\"{file_tag} Approach 1 MV Imputation\", percentage=True\n",
    ")\n",
    "savefig(f\"data_preparation_images/missing_values_imputation_result/data_mv_alt1.png\")\n",
    "show()"
   ]
  },
  {
   "cell_type": "code",
   "execution_count": null,
   "metadata": {},
   "outputs": [],
   "source": [
    "# Alternativa 2\n",
    "data_mv_alt2 = data_encoded.copy()\n",
    "# Define the columns that will be imputed with the most frequent value\n",
    "most_frequent_alt2 = ['Month', 'Occupation', 'Payment_of_Min_Amount', 'CreditMix'\n",
    "                 , 'Payment_Behaviour', 'Payday Loan', 'Personal Loan', 'Debt Consolidation Loan'\n",
    "                 , 'Auto Loan', 'Not Specified Loan', 'Student Loan', 'Credit-Builder Loan'\n",
    "                 , 'Mortgage Loan', 'Home Equity Loan', 'Credit_Score']\n",
    "\n",
    "## 1.3\n",
    "mv_alt2_mode = data_mv_alt2[most_frequent_alt2]\n",
    "mv_alt2_median = data_mv_alt2.drop(columns=most_frequent_alt2)\n",
    "\n",
    "mode_imputed2 = pd.DataFrame(imputer_mode.fit_transform(mv_alt2_mode), columns=mv_alt2_mode.columns)\n",
    "median_imputed2 = pd.DataFrame(imputer_median.fit_transform(mv_alt2_median), columns=mv_alt2_median.columns)\n",
    "\n",
    "data_mv_alt2 = pd.concat([mode_imputed2, median_imputed2], axis=1)\n",
    "\n",
    "# negative_value_counts = (data_mv_alt1 < 0).sum()\n",
    "# print(negative_value_counts)\n",
    "\n",
    "data_mv_alt2.to_csv('data_preparation_csvs/mv_imputation_csvs/data_mv_alt2.csv', index=False)\n",
    "\n",
    "## Separate into Train and Test and save in different files\n",
    "train_data2, test_data2 = train_test_split(data_mv_alt2, test_size=0.2, random_state=42)\n",
    "\n",
    "## Save the training and testing sets to CSV files\n",
    "train_data2.to_csv('data_preparation_csvs/mv_imputation_csvs/train_data_mv_alt2.csv', index=False)\n",
    "test_data2.to_csv('data_preparation_csvs/mv_imputation_csvs/test_data_mv_alt2.csv', index=False)\n",
    "\n",
    "## Evaluate Approach\n",
    "file_tag = \"Credit_Score\"\n",
    "target = \"Credit_Score\"\n",
    "\n",
    "figure()\n",
    "eval: dict[str, list] = dslabs.evaluate_approach(train_data2, test_data2, target=target, metric=\"recall\")\n",
    "dslabs.plot_multibar_chart(\n",
    "    [\"NB\", \"KNN\"], eval, title=f\"{file_tag} Approach 2 MV Imputation\", percentage=True\n",
    ")\n",
    "savefig(f\"data_preparation_images/missing_values_imputation_result/data_mv_alt2.png\")\n",
    "show()"
   ]
  },
  {
   "cell_type": "code",
   "execution_count": null,
   "metadata": {},
   "outputs": [],
   "source": [
    "# Alternativa 3\n",
    "\n",
    "imputer_knn = KNNImputer(n_neighbors=5)\n",
    "data_mv_alt3 = imputer_knn.fit_transform(data_encoded)\n",
    "data_mv_alt3 = pd.DataFrame(data_mv_alt3, columns=data_encoded.columns)\n",
    "\n",
    "data_mv_alt3.to_csv('data_preparation_csvs/mv_imputation_csvs/data_mv_alt3.csv', index=False)\n",
    "\n",
    "## Separate into Train and Test and save in different files\n",
    "train_data3, test_data3 = train_test_split(data_mv_alt3, test_size=0.2, random_state=42)\n",
    "\n",
    "## Save the training and testing sets to CSV files\n",
    "train_data3.to_csv('data_preparation_csvs/mv_imputation_csvs/train_data_mv_alt3.csv', index=False)\n",
    "test_data3.to_csv('data_preparation_csvs/mv_imputation_csvs/test_data_mv_alt3.csv', index=False)\n",
    "\n",
    "## Evaluate Approach\n",
    "file_tag = \"Credit_Score\"\n",
    "target = \"Credit_Score\"\n",
    "\n",
    "figure()\n",
    "eval: dict[str, list] = dslabs.evaluate_approach(train_data3, test_data3, target=target, metric=\"recall\")\n",
    "dslabs.plot_multibar_chart(\n",
    "    [\"NB\", \"KNN\"], eval, title=f\"{file_tag} Approach 3 (KNN) MV Imputation\", percentage=True\n",
    ")\n",
    "savefig(f\"data_preparation_images/missing_values_imputation_result/data_mv_alt3.png\")\n",
    "show()\n"
   ]
  },
  {
   "cell_type": "code",
   "execution_count": null,
   "metadata": {},
   "outputs": [],
   "source": [
    "mv: dict[str, int] = {}\n",
    "figure()\n",
    "for var in data_encoded:\n",
    "    nr: int = data_encoded[var].isna().sum()\n",
    "    if nr > 0:\n",
    "        mv[var] = nr\n",
    "\n",
    "## Check if any record as all variables missing\n",
    "all_record_missing: pd.DataFrame = data_encoded.dropna(how=\"any\", inplace=False)\n",
    "all_record_missing.shape\n",
    "\n",
    "dslabs.plot_bar_chart(\n",
    "    list(mv.keys()),\n",
    "    list(mv.values()),\n",
    "    title=\"Missing values per variable\",\n",
    "    xlabel=\"variables\",\n",
    "    ylabel=\"nr missing values\",\n",
    ")\n",
    "show()"
   ]
  },
  {
   "cell_type": "code",
   "execution_count": null,
   "metadata": {},
   "outputs": [],
   "source": [
    "missing_percentages = data_encoded.isnull().mean() * 100\n",
    "print(missing_percentages)"
   ]
  },
  {
   "cell_type": "code",
   "execution_count": null,
   "metadata": {},
   "outputs": [],
   "source": [
    "missing_percentages_rows = data_encoded.isnull().mean(axis=1) * 100\n",
    "top_20_missing = missing_percentages_rows.sort_values(ascending=False).head(30)\n",
    "print(top_20_missing)\n"
   ]
  },
  {
   "cell_type": "markdown",
   "metadata": {},
   "source": [
    "### Filling Missing Values\n",
    "\n",
    "- mean, median for numeric variables, most_frequent to symbolic"
   ]
  }
 ],
 "metadata": {
  "kernelspec": {
   "display_name": "Python 3",
   "language": "python",
   "name": "python3"
  },
  "language_info": {
   "codemirror_mode": {
    "name": "ipython",
    "version": 3
   },
   "file_extension": ".py",
   "mimetype": "text/x-python",
   "name": "python",
   "nbconvert_exporter": "python",
   "pygments_lexer": "ipython3",
   "version": "3.12.0"
  }
 },
 "nbformat": 4,
 "nbformat_minor": 2
}
