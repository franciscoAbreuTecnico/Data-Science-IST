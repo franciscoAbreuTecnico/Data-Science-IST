{
 "cells": [
  {
   "cell_type": "markdown",
   "metadata": {},
   "source": [
    "# Projeto"
   ]
  },
  {
   "cell_type": "code",
   "execution_count": 38,
   "metadata": {},
   "outputs": [],
   "source": [
    "import pandas as pd"
   ]
  },
  {
   "cell_type": "markdown",
   "metadata": {},
   "source": [
    "## Ignora esta parte"
   ]
  },
  {
   "cell_type": "code",
   "execution_count": 51,
   "metadata": {},
   "outputs": [
    {
     "data": {
      "text/html": [
       "<div>\n",
       "<style scoped>\n",
       "    .dataframe tbody tr th:only-of-type {\n",
       "        vertical-align: middle;\n",
       "    }\n",
       "\n",
       "    .dataframe tbody tr th {\n",
       "        vertical-align: top;\n",
       "    }\n",
       "\n",
       "    .dataframe thead th {\n",
       "        text-align: right;\n",
       "    }\n",
       "</style>\n",
       "<table border=\"1\" class=\"dataframe\">\n",
       "  <thead>\n",
       "    <tr style=\"text-align: right;\">\n",
       "      <th></th>\n",
       "      <th>Customer_ID</th>\n",
       "      <th>Month</th>\n",
       "      <th>Name</th>\n",
       "      <th>Age</th>\n",
       "      <th>SSN</th>\n",
       "      <th>Occupation</th>\n",
       "      <th>Annual_Income</th>\n",
       "      <th>Monthly_Inhand_Salary</th>\n",
       "      <th>Num_Bank_Accounts</th>\n",
       "      <th>Num_Credit_Card</th>\n",
       "      <th>...</th>\n",
       "      <th>CreditMix</th>\n",
       "      <th>OutstandingDebt</th>\n",
       "      <th>CreditUtilizationRatio</th>\n",
       "      <th>Credit_History_Age</th>\n",
       "      <th>Payment_of_Min_Amount</th>\n",
       "      <th>TotalEMIpermonth</th>\n",
       "      <th>Amountinvestedmonthly</th>\n",
       "      <th>Payment_Behaviour</th>\n",
       "      <th>MonthlyBalance</th>\n",
       "      <th>Credit_Score</th>\n",
       "    </tr>\n",
       "    <tr>\n",
       "      <th>ID</th>\n",
       "      <th></th>\n",
       "      <th></th>\n",
       "      <th></th>\n",
       "      <th></th>\n",
       "      <th></th>\n",
       "      <th></th>\n",
       "      <th></th>\n",
       "      <th></th>\n",
       "      <th></th>\n",
       "      <th></th>\n",
       "      <th></th>\n",
       "      <th></th>\n",
       "      <th></th>\n",
       "      <th></th>\n",
       "      <th></th>\n",
       "      <th></th>\n",
       "      <th></th>\n",
       "      <th></th>\n",
       "      <th></th>\n",
       "      <th></th>\n",
       "      <th></th>\n",
       "    </tr>\n",
       "  </thead>\n",
       "  <tbody>\n",
       "    <tr>\n",
       "      <th>0x1602</th>\n",
       "      <td>CUS_0xd40</td>\n",
       "      <td>January</td>\n",
       "      <td>Aaron Maashoh</td>\n",
       "      <td>23</td>\n",
       "      <td>821-00-0265</td>\n",
       "      <td>Scientist</td>\n",
       "      <td>19114.12</td>\n",
       "      <td>1824.843333</td>\n",
       "      <td>3</td>\n",
       "      <td>4</td>\n",
       "      <td>...</td>\n",
       "      <td>NaN</td>\n",
       "      <td>809.98</td>\n",
       "      <td>26.822620</td>\n",
       "      <td>22 Years and 1 Months</td>\n",
       "      <td>No</td>\n",
       "      <td>49.574949</td>\n",
       "      <td>80.415295</td>\n",
       "      <td>High_spent_Small_value_payments</td>\n",
       "      <td>312.494089</td>\n",
       "      <td>Good</td>\n",
       "    </tr>\n",
       "    <tr>\n",
       "      <th>0x1603</th>\n",
       "      <td>CUS_0xd40</td>\n",
       "      <td>February</td>\n",
       "      <td>Aaron Maashoh</td>\n",
       "      <td>23</td>\n",
       "      <td>821-00-0265</td>\n",
       "      <td>Scientist</td>\n",
       "      <td>19114.12</td>\n",
       "      <td>NaN</td>\n",
       "      <td>3</td>\n",
       "      <td>4</td>\n",
       "      <td>...</td>\n",
       "      <td>Good</td>\n",
       "      <td>809.98</td>\n",
       "      <td>31.944960</td>\n",
       "      <td>NaN</td>\n",
       "      <td>No</td>\n",
       "      <td>49.574949</td>\n",
       "      <td>118.280222</td>\n",
       "      <td>Low_spent_Large_value_payments</td>\n",
       "      <td>284.629163</td>\n",
       "      <td>Good</td>\n",
       "    </tr>\n",
       "    <tr>\n",
       "      <th>0x1604</th>\n",
       "      <td>CUS_0xd40</td>\n",
       "      <td>March</td>\n",
       "      <td>Aaron Maashoh</td>\n",
       "      <td>-500</td>\n",
       "      <td>821-00-0265</td>\n",
       "      <td>Scientist</td>\n",
       "      <td>19114.12</td>\n",
       "      <td>NaN</td>\n",
       "      <td>3</td>\n",
       "      <td>4</td>\n",
       "      <td>...</td>\n",
       "      <td>Good</td>\n",
       "      <td>809.98</td>\n",
       "      <td>28.609352</td>\n",
       "      <td>22 Years and 3 Months</td>\n",
       "      <td>No</td>\n",
       "      <td>49.574949</td>\n",
       "      <td>81.699521</td>\n",
       "      <td>Low_spent_Medium_value_payments</td>\n",
       "      <td>331.209863</td>\n",
       "      <td>Good</td>\n",
       "    </tr>\n",
       "    <tr>\n",
       "      <th>0x1605</th>\n",
       "      <td>CUS_0xd40</td>\n",
       "      <td>April</td>\n",
       "      <td>Aaron Maashoh</td>\n",
       "      <td>23</td>\n",
       "      <td>821-00-0265</td>\n",
       "      <td>Scientist</td>\n",
       "      <td>19114.12</td>\n",
       "      <td>NaN</td>\n",
       "      <td>3</td>\n",
       "      <td>4</td>\n",
       "      <td>...</td>\n",
       "      <td>Good</td>\n",
       "      <td>809.98</td>\n",
       "      <td>31.377862</td>\n",
       "      <td>22 Years and 4 Months</td>\n",
       "      <td>No</td>\n",
       "      <td>49.574949</td>\n",
       "      <td>199.458074</td>\n",
       "      <td>Low_spent_Small_value_payments</td>\n",
       "      <td>223.451310</td>\n",
       "      <td>Good</td>\n",
       "    </tr>\n",
       "    <tr>\n",
       "      <th>0x1606</th>\n",
       "      <td>CUS_0xd40</td>\n",
       "      <td>May</td>\n",
       "      <td>Aaron Maashoh</td>\n",
       "      <td>23</td>\n",
       "      <td>821-00-0265</td>\n",
       "      <td>Scientist</td>\n",
       "      <td>19114.12</td>\n",
       "      <td>1824.843333</td>\n",
       "      <td>3</td>\n",
       "      <td>4</td>\n",
       "      <td>...</td>\n",
       "      <td>Good</td>\n",
       "      <td>809.98</td>\n",
       "      <td>24.797347</td>\n",
       "      <td>22 Years and 5 Months</td>\n",
       "      <td>No</td>\n",
       "      <td>49.574949</td>\n",
       "      <td>41.420153</td>\n",
       "      <td>High_spent_Medium_value_payments</td>\n",
       "      <td>341.489231</td>\n",
       "      <td>Good</td>\n",
       "    </tr>\n",
       "    <tr>\n",
       "      <th>0x1607</th>\n",
       "      <td>CUS_0xd40</td>\n",
       "      <td>June</td>\n",
       "      <td>Aaron Maashoh</td>\n",
       "      <td>23</td>\n",
       "      <td>821-00-0265</td>\n",
       "      <td>Scientist</td>\n",
       "      <td>19114.12</td>\n",
       "      <td>NaN</td>\n",
       "      <td>3</td>\n",
       "      <td>4</td>\n",
       "      <td>...</td>\n",
       "      <td>Good</td>\n",
       "      <td>809.98</td>\n",
       "      <td>27.262259</td>\n",
       "      <td>22 Years and 6 Months</td>\n",
       "      <td>No</td>\n",
       "      <td>49.574949</td>\n",
       "      <td>62.430172</td>\n",
       "      <td>NaN</td>\n",
       "      <td>340.479212</td>\n",
       "      <td>Good</td>\n",
       "    </tr>\n",
       "    <tr>\n",
       "      <th>0x1608</th>\n",
       "      <td>CUS_0xd40</td>\n",
       "      <td>July</td>\n",
       "      <td>Aaron Maashoh</td>\n",
       "      <td>23</td>\n",
       "      <td>821-00-0265</td>\n",
       "      <td>Scientist</td>\n",
       "      <td>19114.12</td>\n",
       "      <td>1824.843333</td>\n",
       "      <td>3</td>\n",
       "      <td>4</td>\n",
       "      <td>...</td>\n",
       "      <td>Good</td>\n",
       "      <td>809.98</td>\n",
       "      <td>22.537593</td>\n",
       "      <td>22 Years and 7 Months</td>\n",
       "      <td>No</td>\n",
       "      <td>49.574949</td>\n",
       "      <td>178.344067</td>\n",
       "      <td>Low_spent_Small_value_payments</td>\n",
       "      <td>244.565317</td>\n",
       "      <td>Good</td>\n",
       "    </tr>\n",
       "    <tr>\n",
       "      <th>0x1609</th>\n",
       "      <td>CUS_0xd40</td>\n",
       "      <td>August</td>\n",
       "      <td>NaN</td>\n",
       "      <td>23</td>\n",
       "      <td>NaN</td>\n",
       "      <td>Scientist</td>\n",
       "      <td>19114.12</td>\n",
       "      <td>1824.843333</td>\n",
       "      <td>3</td>\n",
       "      <td>4</td>\n",
       "      <td>...</td>\n",
       "      <td>Good</td>\n",
       "      <td>809.98</td>\n",
       "      <td>23.933795</td>\n",
       "      <td>NaN</td>\n",
       "      <td>No</td>\n",
       "      <td>49.574949</td>\n",
       "      <td>24.785217</td>\n",
       "      <td>High_spent_Medium_value_payments</td>\n",
       "      <td>358.124168</td>\n",
       "      <td>Good</td>\n",
       "    </tr>\n",
       "  </tbody>\n",
       "</table>\n",
       "<p>8 rows × 27 columns</p>\n",
       "</div>"
      ],
      "text/plain": [
       "       Customer_ID     Month           Name   Age          SSN Occupation  \\\n",
       "ID                                                                          \n",
       "0x1602   CUS_0xd40   January  Aaron Maashoh    23  821-00-0265  Scientist   \n",
       "0x1603   CUS_0xd40  February  Aaron Maashoh    23  821-00-0265  Scientist   \n",
       "0x1604   CUS_0xd40     March  Aaron Maashoh  -500  821-00-0265  Scientist   \n",
       "0x1605   CUS_0xd40     April  Aaron Maashoh    23  821-00-0265  Scientist   \n",
       "0x1606   CUS_0xd40       May  Aaron Maashoh    23  821-00-0265  Scientist   \n",
       "0x1607   CUS_0xd40      June  Aaron Maashoh    23  821-00-0265  Scientist   \n",
       "0x1608   CUS_0xd40      July  Aaron Maashoh    23  821-00-0265  Scientist   \n",
       "0x1609   CUS_0xd40    August            NaN    23          NaN  Scientist   \n",
       "\n",
       "        Annual_Income  Monthly_Inhand_Salary  Num_Bank_Accounts  \\\n",
       "ID                                                                \n",
       "0x1602       19114.12            1824.843333                  3   \n",
       "0x1603       19114.12                    NaN                  3   \n",
       "0x1604       19114.12                    NaN                  3   \n",
       "0x1605       19114.12                    NaN                  3   \n",
       "0x1606       19114.12            1824.843333                  3   \n",
       "0x1607       19114.12                    NaN                  3   \n",
       "0x1608       19114.12            1824.843333                  3   \n",
       "0x1609       19114.12            1824.843333                  3   \n",
       "\n",
       "        Num_Credit_Card  ...  CreditMix  OutstandingDebt  \\\n",
       "ID                       ...                               \n",
       "0x1602                4  ...        NaN           809.98   \n",
       "0x1603                4  ...       Good           809.98   \n",
       "0x1604                4  ...       Good           809.98   \n",
       "0x1605                4  ...       Good           809.98   \n",
       "0x1606                4  ...       Good           809.98   \n",
       "0x1607                4  ...       Good           809.98   \n",
       "0x1608                4  ...       Good           809.98   \n",
       "0x1609                4  ...       Good           809.98   \n",
       "\n",
       "       CreditUtilizationRatio     Credit_History_Age  Payment_of_Min_Amount  \\\n",
       "ID                                                                            \n",
       "0x1602              26.822620  22 Years and 1 Months                     No   \n",
       "0x1603              31.944960                    NaN                     No   \n",
       "0x1604              28.609352  22 Years and 3 Months                     No   \n",
       "0x1605              31.377862  22 Years and 4 Months                     No   \n",
       "0x1606              24.797347  22 Years and 5 Months                     No   \n",
       "0x1607              27.262259  22 Years and 6 Months                     No   \n",
       "0x1608              22.537593  22 Years and 7 Months                     No   \n",
       "0x1609              23.933795                    NaN                     No   \n",
       "\n",
       "        TotalEMIpermonth  Amountinvestedmonthly  \\\n",
       "ID                                                \n",
       "0x1602         49.574949              80.415295   \n",
       "0x1603         49.574949             118.280222   \n",
       "0x1604         49.574949              81.699521   \n",
       "0x1605         49.574949             199.458074   \n",
       "0x1606         49.574949              41.420153   \n",
       "0x1607         49.574949              62.430172   \n",
       "0x1608         49.574949             178.344067   \n",
       "0x1609         49.574949              24.785217   \n",
       "\n",
       "                       Payment_Behaviour  MonthlyBalance  Credit_Score  \n",
       "ID                                                                      \n",
       "0x1602   High_spent_Small_value_payments      312.494089          Good  \n",
       "0x1603    Low_spent_Large_value_payments      284.629163          Good  \n",
       "0x1604   Low_spent_Medium_value_payments      331.209863          Good  \n",
       "0x1605    Low_spent_Small_value_payments      223.451310          Good  \n",
       "0x1606  High_spent_Medium_value_payments      341.489231          Good  \n",
       "0x1607                               NaN      340.479212          Good  \n",
       "0x1608    Low_spent_Small_value_payments      244.565317          Good  \n",
       "0x1609  High_spent_Medium_value_payments      358.124168          Good  \n",
       "\n",
       "[8 rows x 27 columns]"
      ]
     },
     "execution_count": 51,
     "metadata": {},
     "output_type": "execute_result"
    }
   ],
   "source": [
    "dataset = pd.read_csv('class_credit_score.csv', index_col='ID', sep=',', decimal='.', na_values='')\n",
    "dataset.head(8)"
   ]
  },
  {
   "cell_type": "code",
   "execution_count": 40,
   "metadata": {},
   "outputs": [
    {
     "data": {
      "text/plain": [
       "Index(['Customer_ID', 'Month', 'Name', 'Age', 'SSN', 'Occupation',\n",
       "       'Annual_Income', 'Monthly_Inhand_Salary', 'Num_Bank_Accounts',\n",
       "       'Num_Credit_Card', 'Interest_Rate', 'NumofLoan', 'Type_of_Loan',\n",
       "       'Delay_from_due_date', 'NumofDelayedPayment', 'ChangedCreditLimit',\n",
       "       'NumCreditInquiries', 'CreditMix', 'OutstandingDebt',\n",
       "       'CreditUtilizationRatio', 'Credit_History_Age', 'Payment_of_Min_Amount',\n",
       "       'TotalEMIpermonth', 'Amountinvestedmonthly', 'Payment_Behaviour',\n",
       "       'MonthlyBalance', 'Credit_Score'],\n",
       "      dtype='object')"
      ]
     },
     "execution_count": 40,
     "metadata": {},
     "output_type": "execute_result"
    }
   ],
   "source": [
    "dataset.columns"
   ]
  },
  {
   "cell_type": "markdown",
   "metadata": {},
   "source": []
  },
  {
   "cell_type": "code",
   "execution_count": 41,
   "metadata": {},
   "outputs": [
    {
     "data": {
      "text/plain": [
       "(100000, 27)"
      ]
     },
     "execution_count": 41,
     "metadata": {},
     "output_type": "execute_result"
    }
   ],
   "source": [
    "dataset.shape"
   ]
  },
  {
   "cell_type": "code",
   "execution_count": 42,
   "metadata": {},
   "outputs": [
    {
     "data": {
      "text/plain": [
       "array([['CUS_0xd40', 'January', 'Aaron Maashoh', ...,\n",
       "        'High_spent_Small_value_payments', 312.4940887, 'Good'],\n",
       "       ['CUS_0xd40', 'February', 'Aaron Maashoh', ...,\n",
       "        'Low_spent_Large_value_payments', 284.6291625, 'Good'],\n",
       "       ['CUS_0xd40', 'March', 'Aaron Maashoh', ...,\n",
       "        'Low_spent_Medium_value_payments', 331.2098629, 'Good'],\n",
       "       ...,\n",
       "       ['CUS_0x942c', 'June', 'Nicks', ...,\n",
       "        'High_spent_Large_value_payments', 516.8090833, 'Poor'],\n",
       "       ['CUS_0x942c', 'July', 'Nicks', ...,\n",
       "        'Low_spent_Large_value_payments', 319.1649785, 'Good'],\n",
       "       ['CUS_0x942c', 'August', 'Nicks', ..., nan, 393.6736956, 'Poor']],\n",
       "      dtype=object)"
      ]
     },
     "execution_count": 42,
     "metadata": {},
     "output_type": "execute_result"
    }
   ],
   "source": [
    "dataset.values"
   ]
  },
  {
   "cell_type": "code",
   "execution_count": 43,
   "metadata": {},
   "outputs": [
    {
     "data": {
      "text/plain": [
       "nan"
      ]
     },
     "execution_count": 43,
     "metadata": {},
     "output_type": "execute_result"
    }
   ],
   "source": [
    "dataset.loc[\"0x1602\", \"CreditMix\"]"
   ]
  },
  {
   "cell_type": "code",
   "execution_count": 44,
   "metadata": {},
   "outputs": [
    {
     "data": {
      "text/html": [
       "<div>\n",
       "<style scoped>\n",
       "    .dataframe tbody tr th:only-of-type {\n",
       "        vertical-align: middle;\n",
       "    }\n",
       "\n",
       "    .dataframe tbody tr th {\n",
       "        vertical-align: top;\n",
       "    }\n",
       "\n",
       "    .dataframe thead th {\n",
       "        text-align: right;\n",
       "    }\n",
       "</style>\n",
       "<table border=\"1\" class=\"dataframe\">\n",
       "  <thead>\n",
       "    <tr style=\"text-align: right;\">\n",
       "      <th></th>\n",
       "      <th>Customer_ID</th>\n",
       "      <th>Month</th>\n",
       "      <th>Name</th>\n",
       "      <th>Age</th>\n",
       "      <th>SSN</th>\n",
       "      <th>Occupation</th>\n",
       "      <th>Annual_Income</th>\n",
       "      <th>Monthly_Inhand_Salary</th>\n",
       "      <th>Num_Bank_Accounts</th>\n",
       "      <th>Num_Credit_Card</th>\n",
       "      <th>...</th>\n",
       "      <th>CreditMix</th>\n",
       "      <th>OutstandingDebt</th>\n",
       "      <th>CreditUtilizationRatio</th>\n",
       "      <th>Credit_History_Age</th>\n",
       "      <th>Payment_of_Min_Amount</th>\n",
       "      <th>TotalEMIpermonth</th>\n",
       "      <th>Amountinvestedmonthly</th>\n",
       "      <th>Payment_Behaviour</th>\n",
       "      <th>MonthlyBalance</th>\n",
       "      <th>Credit_Score</th>\n",
       "    </tr>\n",
       "    <tr>\n",
       "      <th>ID</th>\n",
       "      <th></th>\n",
       "      <th></th>\n",
       "      <th></th>\n",
       "      <th></th>\n",
       "      <th></th>\n",
       "      <th></th>\n",
       "      <th></th>\n",
       "      <th></th>\n",
       "      <th></th>\n",
       "      <th></th>\n",
       "      <th></th>\n",
       "      <th></th>\n",
       "      <th></th>\n",
       "      <th></th>\n",
       "      <th></th>\n",
       "      <th></th>\n",
       "      <th></th>\n",
       "      <th></th>\n",
       "      <th></th>\n",
       "      <th></th>\n",
       "      <th></th>\n",
       "    </tr>\n",
       "  </thead>\n",
       "  <tbody>\n",
       "    <tr>\n",
       "      <th>0x13ecd</th>\n",
       "      <td>CUS_0xa6f6</td>\n",
       "      <td>August</td>\n",
       "      <td>Egenterh</td>\n",
       "      <td>35</td>\n",
       "      <td>424-26-3353</td>\n",
       "      <td>Media_Manager</td>\n",
       "      <td>35292.24</td>\n",
       "      <td>2715.02000</td>\n",
       "      <td>3</td>\n",
       "      <td>3</td>\n",
       "      <td>...</td>\n",
       "      <td>NaN</td>\n",
       "      <td>996.99</td>\n",
       "      <td>23.643121</td>\n",
       "      <td>22 Years and 5 Months</td>\n",
       "      <td>No</td>\n",
       "      <td>51.650268</td>\n",
       "      <td>120.618211</td>\n",
       "      <td>High_spent_Small_value_payments</td>\n",
       "      <td>359.233521</td>\n",
       "      <td>Good</td>\n",
       "    </tr>\n",
       "    <tr>\n",
       "      <th>0xc558</th>\n",
       "      <td>CUS_0x1d3d</td>\n",
       "      <td>July</td>\n",
       "      <td>Martins</td>\n",
       "      <td>52</td>\n",
       "      <td>NaN</td>\n",
       "      <td>Doctor</td>\n",
       "      <td>60284.16</td>\n",
       "      <td>5153.68000</td>\n",
       "      <td>0</td>\n",
       "      <td>4</td>\n",
       "      <td>...</td>\n",
       "      <td>Good</td>\n",
       "      <td>1306.74</td>\n",
       "      <td>32.207460</td>\n",
       "      <td>30 Years and 8 Months</td>\n",
       "      <td>No</td>\n",
       "      <td>67.929575</td>\n",
       "      <td>96.599231</td>\n",
       "      <td>High_spent_Large_value_payments</td>\n",
       "      <td>590.839194</td>\n",
       "      <td>Poor</td>\n",
       "    </tr>\n",
       "    <tr>\n",
       "      <th>0x3ecb</th>\n",
       "      <td>CUS_0x3c6a</td>\n",
       "      <td>February</td>\n",
       "      <td>Zieminskiv</td>\n",
       "      <td>44</td>\n",
       "      <td>791-08-6233</td>\n",
       "      <td>NaN</td>\n",
       "      <td>123511.28</td>\n",
       "      <td>10430.60667</td>\n",
       "      <td>8</td>\n",
       "      <td>3</td>\n",
       "      <td>...</td>\n",
       "      <td>Standard</td>\n",
       "      <td>1350.60</td>\n",
       "      <td>38.715059</td>\n",
       "      <td>21 Years and 9 Months</td>\n",
       "      <td>No</td>\n",
       "      <td>254.604370</td>\n",
       "      <td>NaN</td>\n",
       "      <td>High_spent_Medium_value_payments</td>\n",
       "      <td>619.309715</td>\n",
       "      <td>Good</td>\n",
       "    </tr>\n",
       "    <tr>\n",
       "      <th>0x17ac</th>\n",
       "      <td>CUS_0x9b94</td>\n",
       "      <td>July</td>\n",
       "      <td>Bri</td>\n",
       "      <td>36</td>\n",
       "      <td>734-54-7098</td>\n",
       "      <td>Manager</td>\n",
       "      <td>71681.40</td>\n",
       "      <td>5799.45000</td>\n",
       "      <td>3</td>\n",
       "      <td>6</td>\n",
       "      <td>...</td>\n",
       "      <td>NaN</td>\n",
       "      <td>1293.02</td>\n",
       "      <td>32.733733</td>\n",
       "      <td>26 Years and 1 Months</td>\n",
       "      <td>Yes</td>\n",
       "      <td>53.923514</td>\n",
       "      <td>NaN</td>\n",
       "      <td>High_spent_Large_value_payments</td>\n",
       "      <td>642.671824</td>\n",
       "      <td>Good</td>\n",
       "    </tr>\n",
       "    <tr>\n",
       "      <th>0x1aa8d</th>\n",
       "      <td>CUS_0x4298</td>\n",
       "      <td>April</td>\n",
       "      <td>Yaov</td>\n",
       "      <td>46</td>\n",
       "      <td>850-03-7662</td>\n",
       "      <td>Teacher</td>\n",
       "      <td>49963.65</td>\n",
       "      <td>4456.63750</td>\n",
       "      <td>8</td>\n",
       "      <td>9</td>\n",
       "      <td>...</td>\n",
       "      <td>Bad</td>\n",
       "      <td>1624.60</td>\n",
       "      <td>36.554337</td>\n",
       "      <td>6 Years and 4 Months</td>\n",
       "      <td>Yes</td>\n",
       "      <td>99.887064</td>\n",
       "      <td>124.988384</td>\n",
       "      <td>High_spent_Medium_value_payments</td>\n",
       "      <td>470.788302</td>\n",
       "      <td>Poor</td>\n",
       "    </tr>\n",
       "  </tbody>\n",
       "</table>\n",
       "<p>5 rows × 27 columns</p>\n",
       "</div>"
      ],
      "text/plain": [
       "        Customer_ID     Month        Name Age          SSN     Occupation  \\\n",
       "ID                                                                          \n",
       "0x13ecd  CUS_0xa6f6    August    Egenterh  35  424-26-3353  Media_Manager   \n",
       "0xc558   CUS_0x1d3d      July     Martins  52          NaN         Doctor   \n",
       "0x3ecb   CUS_0x3c6a  February  Zieminskiv  44  791-08-6233            NaN   \n",
       "0x17ac   CUS_0x9b94      July         Bri  36  734-54-7098        Manager   \n",
       "0x1aa8d  CUS_0x4298     April        Yaov  46  850-03-7662        Teacher   \n",
       "\n",
       "         Annual_Income  Monthly_Inhand_Salary  Num_Bank_Accounts  \\\n",
       "ID                                                                 \n",
       "0x13ecd       35292.24             2715.02000                  3   \n",
       "0xc558        60284.16             5153.68000                  0   \n",
       "0x3ecb       123511.28            10430.60667                  8   \n",
       "0x17ac        71681.40             5799.45000                  3   \n",
       "0x1aa8d       49963.65             4456.63750                  8   \n",
       "\n",
       "         Num_Credit_Card  ...  CreditMix  OutstandingDebt  \\\n",
       "ID                        ...                               \n",
       "0x13ecd                3  ...        NaN           996.99   \n",
       "0xc558                 4  ...       Good          1306.74   \n",
       "0x3ecb                 3  ...   Standard          1350.60   \n",
       "0x17ac                 6  ...        NaN          1293.02   \n",
       "0x1aa8d                9  ...        Bad          1624.60   \n",
       "\n",
       "        CreditUtilizationRatio     Credit_History_Age  Payment_of_Min_Amount  \\\n",
       "ID                                                                             \n",
       "0x13ecd              23.643121  22 Years and 5 Months                     No   \n",
       "0xc558               32.207460  30 Years and 8 Months                     No   \n",
       "0x3ecb               38.715059  21 Years and 9 Months                     No   \n",
       "0x17ac               32.733733  26 Years and 1 Months                    Yes   \n",
       "0x1aa8d              36.554337   6 Years and 4 Months                    Yes   \n",
       "\n",
       "         TotalEMIpermonth  Amountinvestedmonthly  \\\n",
       "ID                                                 \n",
       "0x13ecd         51.650268             120.618211   \n",
       "0xc558          67.929575              96.599231   \n",
       "0x3ecb         254.604370                    NaN   \n",
       "0x17ac          53.923514                    NaN   \n",
       "0x1aa8d         99.887064             124.988384   \n",
       "\n",
       "                        Payment_Behaviour  MonthlyBalance  Credit_Score  \n",
       "ID                                                                       \n",
       "0x13ecd   High_spent_Small_value_payments      359.233521          Good  \n",
       "0xc558    High_spent_Large_value_payments      590.839194          Poor  \n",
       "0x3ecb   High_spent_Medium_value_payments      619.309715          Good  \n",
       "0x17ac    High_spent_Large_value_payments      642.671824          Good  \n",
       "0x1aa8d  High_spent_Medium_value_payments      470.788302          Poor  \n",
       "\n",
       "[5 rows x 27 columns]"
      ]
     },
     "execution_count": 44,
     "metadata": {},
     "output_type": "execute_result"
    }
   ],
   "source": [
    "data_subset: pd.DataFrame = dataset.sample(n=5, replace=False)\n",
    "data_subset"
   ]
  },
  {
   "cell_type": "code",
   "execution_count": 45,
   "metadata": {},
   "outputs": [
    {
     "data": {
      "text/plain": [
       "Customer_ID                object\n",
       "Month                      object\n",
       "Name                       object\n",
       "Age                        object\n",
       "SSN                        object\n",
       "Occupation                 object\n",
       "Annual_Income             float64\n",
       "Monthly_Inhand_Salary     float64\n",
       "Num_Bank_Accounts           int64\n",
       "Num_Credit_Card             int64\n",
       "Interest_Rate               int64\n",
       "NumofLoan                   int64\n",
       "Type_of_Loan               object\n",
       "Delay_from_due_date         int64\n",
       "NumofDelayedPayment       float64\n",
       "ChangedCreditLimit        float64\n",
       "NumCreditInquiries        float64\n",
       "CreditMix                  object\n",
       "OutstandingDebt           float64\n",
       "CreditUtilizationRatio    float64\n",
       "Credit_History_Age         object\n",
       "Payment_of_Min_Amount      object\n",
       "TotalEMIpermonth          float64\n",
       "Amountinvestedmonthly     float64\n",
       "Payment_Behaviour          object\n",
       "MonthlyBalance            float64\n",
       "Credit_Score               object\n",
       "dtype: object"
      ]
     },
     "execution_count": 45,
     "metadata": {},
     "output_type": "execute_result"
    }
   ],
   "source": [
    "dataset.dtypes"
   ]
  },
  {
   "cell_type": "code",
   "execution_count": 46,
   "metadata": {},
   "outputs": [
    {
     "data": {
      "text/plain": [
       "Customer_ID                   0\n",
       "Month                         0\n",
       "Name                       9985\n",
       "Age                           0\n",
       "SSN                        5572\n",
       "Occupation                 7062\n",
       "Annual_Income                 0\n",
       "Monthly_Inhand_Salary     15002\n",
       "Num_Bank_Accounts             0\n",
       "Num_Credit_Card               0\n",
       "Interest_Rate                 0\n",
       "NumofLoan                     0\n",
       "Type_of_Loan              11408\n",
       "Delay_from_due_date           0\n",
       "NumofDelayedPayment        7002\n",
       "ChangedCreditLimit         2091\n",
       "NumCreditInquiries         1965\n",
       "CreditMix                 20195\n",
       "OutstandingDebt               0\n",
       "CreditUtilizationRatio        0\n",
       "Credit_History_Age         9030\n",
       "Payment_of_Min_Amount         0\n",
       "TotalEMIpermonth              0\n",
       "Amountinvestedmonthly      4479\n",
       "Payment_Behaviour          7600\n",
       "MonthlyBalance             1200\n",
       "Credit_Score                  0\n",
       "dtype: int64"
      ]
     },
     "execution_count": 46,
     "metadata": {},
     "output_type": "execute_result"
    }
   ],
   "source": [
    "dataset.isnull().sum()"
   ]
  },
  {
   "cell_type": "markdown",
   "metadata": {},
   "source": [
    "## Data Profiling"
   ]
  },
  {
   "cell_type": "code",
   "execution_count": 84,
   "metadata": {},
   "outputs": [
    {
     "data": {
      "text/plain": [
       "(100000, 27)"
      ]
     },
     "execution_count": 84,
     "metadata": {},
     "output_type": "execute_result"
    }
   ],
   "source": [
    "from pandas import DataFrame\n",
    "\n",
    "filename = 'class_credit_score.csv'\n",
    "file_tag = 'credit_score'\n",
    "dataset: DataFrame = pd.read_csv(filename, index_col='ID', sep=',', decimal='.', na_values='')\n",
    "\n",
    "dataset.shape"
   ]
  },
  {
   "cell_type": "markdown",
   "metadata": {},
   "source": [
    "### Data Dimensionality"
   ]
  },
  {
   "cell_type": "markdown",
   "metadata": {},
   "source": [
    "#### Figure 1 Nr Records x Nr variables"
   ]
  },
  {
   "cell_type": "markdown",
   "metadata": {},
   "source": [
    "*vale a pena experimentar com outros tipos de gráficos???*\n",
    "- nao ha curse of dimensionality"
   ]
  },
  {
   "cell_type": "code",
   "execution_count": 85,
   "metadata": {},
   "outputs": [
    {
     "data": {
      "image/png": "[encoded data removed]",
      "text/plain": [
       "<Figure size 600x300 with 1 Axes>"
      ]
     },
     "metadata": {},
     "output_type": "display_data"
    }
   ],
   "source": [
    "from matplotlib.pyplot import figure, savefig, show\n",
    "from dslabs_functions import plot_bar_chart\n",
    "\n",
    "figure(figsize=(4, 2))\n",
    "values: dict[str, int] = {\"nr records\": dataset.shape[0], \"nr variables\": dataset.shape[1]}\n",
    "plot_bar_chart(\n",
    "    list(values.keys()), list(values.values()), title=\"Nr of records vs nr variables\"\n",
    ")\n",
    "savefig(f\"images/fig_1_records_variables.png\")\n",
    "show()"
   ]
  },
  {
   "cell_type": "markdown",
   "metadata": {},
   "source": [
    "#### Figure 2 Nr variables per type"
   ]
  },
  {
   "cell_type": "markdown",
   "metadata": {},
   "source": [
    "*Podemos confiar na funcao get_variable_types ou temos de rever e trocar os tipos de dados se for preciso*"
   ]
  },
  {
   "cell_type": "code",
   "execution_count": 86,
   "metadata": {},
   "outputs": [
    {
     "data": {
      "text/plain": [
       "Customer_ID                object\n",
       "Month                      object\n",
       "Name                       object\n",
       "Age                        object\n",
       "SSN                        object\n",
       "Occupation                 object\n",
       "Annual_Income             float64\n",
       "Monthly_Inhand_Salary     float64\n",
       "Num_Bank_Accounts           int64\n",
       "Num_Credit_Card             int64\n",
       "Interest_Rate               int64\n",
       "NumofLoan                   int64\n",
       "Type_of_Loan               object\n",
       "Delay_from_due_date         int64\n",
       "NumofDelayedPayment       float64\n",
       "ChangedCreditLimit        float64\n",
       "NumCreditInquiries        float64\n",
       "CreditMix                  object\n",
       "OutstandingDebt           float64\n",
       "CreditUtilizationRatio    float64\n",
       "Credit_History_Age         object\n",
       "Payment_of_Min_Amount      object\n",
       "TotalEMIpermonth          float64\n",
       "Amountinvestedmonthly     float64\n",
       "Payment_Behaviour          object\n",
       "MonthlyBalance            float64\n",
       "Credit_Score               object\n",
       "dtype: object"
      ]
     },
     "execution_count": 86,
     "metadata": {},
     "output_type": "execute_result"
    }
   ],
   "source": [
    "dataset.dtypes"
   ]
  },
  {
   "cell_type": "code",
   "execution_count": 87,
   "metadata": {},
   "outputs": [
    {
     "name": "stdout",
     "output_type": "stream",
     "text": [
      "{'numeric': ['Annual_Income', 'Monthly_Inhand_Salary', 'Num_Bank_Accounts', 'Num_Credit_Card', 'Interest_Rate', 'NumofLoan', 'Delay_from_due_date', 'NumofDelayedPayment', 'ChangedCreditLimit', 'NumCreditInquiries', 'OutstandingDebt', 'CreditUtilizationRatio', 'TotalEMIpermonth', 'Amountinvestedmonthly', 'MonthlyBalance'], 'binary': ['Credit_Score'], 'date': [], 'symbolic': ['Customer_ID', 'Month', 'Name', 'Age', 'SSN', 'Occupation', 'Type_of_Loan', 'CreditMix', 'Credit_History_Age', 'Payment_of_Min_Amount', 'Payment_Behaviour']}\n"
     ]
    },
    {
     "data": {
      "image/png": "[encoded data removed]",
      "text/plain": [
       "<Figure size 600x300 with 1 Axes>"
      ]
     },
     "metadata": {},
     "output_type": "display_data"
    }
   ],
   "source": [
    "from dslabs_functions import get_variable_types\n",
    "\n",
    "variable_types: dict[str, list] = get_variable_types(dataset)\n",
    "print(variable_types)\n",
    "\n",
    "counts: dict[str, int] = {}\n",
    "for tp in variable_types.keys():\n",
    "    counts[tp] = len(variable_types[tp])\n",
    "\n",
    "figure(figsize=(4, 2))\n",
    "plot_bar_chart(\n",
    "    list(counts.keys()), list(counts.values()), title=\"Nr of variables per type\"\n",
    ")\n",
    "savefig(f\"images/fig_2_variable_types.png\")\n",
    "show()"
   ]
  },
  {
   "cell_type": "code",
   "execution_count": 88,
   "metadata": {},
   "outputs": [
    {
     "name": "stdout",
     "output_type": "stream",
     "text": [
      "['Credit_Score']\n"
     ]
    }
   ],
   "source": [
    "#binary: list[str] = variable_types[\"binary\"]\n",
    "#print(binary)"
   ]
  },
  {
   "cell_type": "markdown",
   "metadata": {},
   "source": [
    "*Mudar de 'Good' && 'Poor' para 1 && 0*"
   ]
  },
  {
   "cell_type": "code",
   "execution_count": 89,
   "metadata": {},
   "outputs": [
    {
     "data": {
      "text/plain": [
       "Customer_ID               category\n",
       "Month                     category\n",
       "Name                      category\n",
       "Age                       category\n",
       "SSN                       category\n",
       "Occupation                category\n",
       "Annual_Income              float64\n",
       "Monthly_Inhand_Salary      float64\n",
       "Num_Bank_Accounts            int64\n",
       "Num_Credit_Card              int64\n",
       "Interest_Rate                int64\n",
       "NumofLoan                    int64\n",
       "Type_of_Loan              category\n",
       "Delay_from_due_date          int64\n",
       "NumofDelayedPayment        float64\n",
       "ChangedCreditLimit         float64\n",
       "NumCreditInquiries         float64\n",
       "CreditMix                 category\n",
       "OutstandingDebt            float64\n",
       "CreditUtilizationRatio     float64\n",
       "Credit_History_Age        category\n",
       "Payment_of_Min_Amount     category\n",
       "TotalEMIpermonth           float64\n",
       "Amountinvestedmonthly      float64\n",
       "Payment_Behaviour         category\n",
       "MonthlyBalance             float64\n",
       "Credit_Score                object\n",
       "dtype: object"
      ]
     },
     "execution_count": 89,
     "metadata": {},
     "output_type": "execute_result"
    }
   ],
   "source": [
    "symbolic: list[str] = variable_types[\"symbolic\"]\n",
    "dataset[symbolic] = dataset[symbolic].apply(lambda x: x.astype(\"category\"))\n",
    "\n",
    "# Mudar Credit_Score object para binary como na funçao aplicada acima\n",
    "# é a unica que diz object\n",
    "#object: list[str] = variable_types[\"binary\"]\n",
    "#dataset['Credit_Score'] = dataset['Credit_Score'].map({'Good': 1, 'Poor': 0})\n",
    "\n",
    "dataset.dtypes"
   ]
  },
  {
   "cell_type": "markdown",
   "metadata": {},
   "source": [
    "#### Figure 3 Nr missing values for dataset"
   ]
  },
  {
   "cell_type": "markdown",
   "metadata": {},
   "source": [
    "*Como escolher MV que nao sao realmente Missing Values*"
   ]
  },
  {
   "cell_type": "code",
   "execution_count": 100,
   "metadata": {},
   "outputs": [
    {
     "name": "stdout",
     "output_type": "stream",
     "text": [
      "Customer_ID - 0\n",
      "Month - 0\n",
      "Name - 9985\n",
      "Age - 0\n",
      "SSN - 5572\n",
      "Occupation - 7062\n",
      "Annual_Income - 0\n",
      "Monthly_Inhand_Salary - 15002\n",
      "Num_Bank_Accounts - 0\n",
      "Num_Credit_Card - 0\n",
      "Interest_Rate - 0\n",
      "NumofLoan - 0\n",
      "Type_of_Loan - 11408\n",
      "Delay_from_due_date - 0\n",
      "NumofDelayedPayment - 7002\n",
      "ChangedCreditLimit - 2091\n",
      "NumCreditInquiries - 1965\n",
      "CreditMix - 20195\n",
      "OutstandingDebt - 0\n",
      "CreditUtilizationRatio - 0\n",
      "Credit_History_Age - 9030\n",
      "Payment_of_Min_Amount - 0\n",
      "TotalEMIpermonth - 0\n",
      "Amountinvestedmonthly - 4479\n",
      "Payment_Behaviour - 7600\n",
      "MonthlyBalance - 1200\n",
      "Credit_Score - 0\n"
     ]
    }
   ],
   "source": [
    "mv = {}\n",
    "\n",
    "for var in dataset.columns:\n",
    "    nr = dataset[var].isna().sum()\n",
    "    print(var + \" - \" + str(nr))\n",
    "    if nr > 0:\n",
    "        mv[var] = nr"
   ]
  },
  {
   "cell_type": "code",
   "execution_count": 115,
   "metadata": {},
   "outputs": [
    {
     "data": {
      "image/png": "[encoded data removed]",
      "text/plain": [
       "<Figure size 1200x600 with 1 Axes>"
      ]
     },
     "metadata": {},
     "output_type": "display_data"
    }
   ],
   "source": [
    "mv: dict[str, int] = {}\n",
    "for var in dataset.columns:\n",
    "    nr: int = dataset[var].isna().sum()\n",
    "    if nr > 0:\n",
    "        mv[var] = nr\n",
    "\n",
    "figure(figsize=(8, 4))\n",
    "plot_bar_chart(\n",
    "    list(mv.keys()),\n",
    "    list(mv.values()),\n",
    "    title=\"Nr of missing values per variable\",\n",
    "    xlabel=\"variables\",\n",
    "    ylabel=\"nr missing values\",\n",
    ")\n",
    "savefig(f\"images/figure_3_mv.png\")\n",
    "show()"
   ]
  }
 ],
 "metadata": {
  "kernelspec": {
   "display_name": "Python 3",
   "language": "python",
   "name": "python3"
  },
  "language_info": {
   "codemirror_mode": {
    "name": "ipython",
    "version": 3
   },
   "file_extension": ".py",
   "mimetype": "text/x-python",
   "name": "python",
   "nbconvert_exporter": "python",
   "pygments_lexer": "ipython3",
   "version": "3.12.0"
  }
 },
 "nbformat": 4,
 "nbformat_minor": 2
}
