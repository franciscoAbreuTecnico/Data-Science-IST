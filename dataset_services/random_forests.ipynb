{
 "cells": [
  {
   "cell_type": "markdown",
   "metadata": {},
   "source": [
    "# Projeto"
   ]
  },
  {
   "cell_type": "markdown",
   "metadata": {},
   "source": [
    "## Classification"
   ]
  },
  {
   "cell_type": "markdown",
   "metadata": {},
   "source": [
    "## Random Forests Approach"
   ]
  },
  {
   "cell_type": "code",
   "execution_count": null,
   "metadata": {
    "vscode": {
     "languageId": "plaintext"
    }
   },
   "outputs": [],
   "source": [
    "import dslabs_functions as dslabs\n",
    "import numpy as np\n",
    "from sklearn.naive_bayes import GaussianNB, MultinomialNB, BernoulliNB\n",
    "from matplotlib.pyplot import figure, savefig, show\n",
    "import dslabs_functions as dslabs\n",
    "import pandas as pd\n",
    "\n",
    "file_tag = \"Credit_Score\"\n",
    "## Train - resultado do balancing escolhido (over no nosso caso)\n",
    "train_filename = \"data_preparation_final_results_1/data_preparation_csvs/balancing_csvs/data_balancing_alt2_over.csv\"\n",
    "## ficheiro Teste ao qual nao fazemos balancing\n",
    "test_filename = \"data_preparation_final_results_1/data_preparation_csvs/feat_eng_csvs/test_data_feat_select_alt3_RFE.csv\"\n",
    "target = \"Credit_Score\"\n",
    "# default\n",
    "eval_metric = \"precision\"\n",
    "\n",
    "trnX: np.ndarray\n",
    "tstX: np.ndarray\n",
    "trnY: np.array\n",
    "tstY: np.array\n",
    "labels: list\n",
    "vars: list\n",
    "trnX, tstX, trnY, tstY, labels, vars = dslabs.read_train_test_from_files(\n",
    "    train_filename, test_filename, target\n",
    ")\n",
    "print(f\"Train#={len(trnX)} Test#={len(tstX)}\")\n",
    "print(f\"Labels={labels}\")\n",
    "## normal depois de fazer o balancing, ter target ordenado 0 e 1's"
   ]
  }
 ],
 "metadata": {
  "language_info": {
   "name": "python"
  }
 },
 "nbformat": 4,
 "nbformat_minor": 2
}
