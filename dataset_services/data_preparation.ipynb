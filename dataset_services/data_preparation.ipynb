{
 "cells": [
  {
   "cell_type": "markdown",
   "metadata": {},
   "source": [
    "# Projeto"
   ]
  },
  {
   "cell_type": "markdown",
   "metadata": {},
   "source": [
    "## Data Preparation"
   ]
  },
  {
   "cell_type": "markdown",
   "metadata": {},
   "source": [
    "- Eliminar Colunas IDentificadoras e tornar ID como PK\n",
    "\n",
    "- Eliminar Erros de Input\n",
    "    - Format 'Age' & Check SSN pattern\n",
    "    - Negative Numeric Variables: 'Age', 'Num_Bank_Accounts', 'NumofLoan'\n",
    "    - Age Restriction (GREATER than 0 && LESS than 150)\n",
    "<br><br>\n",
    "- Eliminar 9 Records de 'Monthly_Balance' igual a -3.33333E+26\n",
    "\n",
    "- Trabalhar com 'Credit_History_Age' como variavel numerica \n",
    "\n",
    "- Variable Enconding of 'Age' and 'Credit_History_Age'"
   ]
  },
  {
   "cell_type": "code",
   "execution_count": 5,
   "metadata": {},
   "outputs": [
    {
     "name": "stdout",
     "output_type": "stream",
     "text": [
      "{'numeric': ['Age', 'Annual_Income', 'Monthly_Inhand_Salary', 'Num_Bank_Accounts', 'Num_Credit_Card', 'Interest_Rate', 'NumofLoan', 'Delay_from_due_date', 'NumofDelayedPayment', 'ChangedCreditLimit', 'NumCreditInquiries', 'OutstandingDebt', 'CreditUtilizationRatio', 'Credit_History_Age', 'TotalEMIpermonth', 'Amountinvestedmonthly', 'MonthlyBalance'], 'binary': ['Credit_Score'], 'date': [], 'symbolic': ['Month', 'Occupation', 'Type_of_Loan', 'CreditMix', 'Payment_of_Min_Amount', 'Payment_Behaviour']}\n",
      "Month                     category\n",
      "Age                        float64\n",
      "Occupation                category\n",
      "Annual_Income              float64\n",
      "Monthly_Inhand_Salary      float64\n",
      "Num_Bank_Accounts          float64\n",
      "Num_Credit_Card              int64\n",
      "Interest_Rate                int64\n",
      "NumofLoan                  float64\n",
      "Type_of_Loan              category\n",
      "Delay_from_due_date          int64\n",
      "NumofDelayedPayment        float64\n",
      "ChangedCreditLimit         float64\n",
      "NumCreditInquiries         float64\n",
      "CreditMix                 category\n",
      "OutstandingDebt            float64\n",
      "CreditUtilizationRatio     float64\n",
      "Credit_History_Age         float64\n",
      "Payment_of_Min_Amount     category\n",
      "TotalEMIpermonth           float64\n",
      "Amountinvestedmonthly      float64\n",
      "Payment_Behaviour         category\n",
      "MonthlyBalance             float64\n",
      "Credit_Score                object\n",
      "dtype: object\n"
     ]
    }
   ],
   "source": [
    "import pandas as pd\n",
    "import re\n",
    "import numpy as np\n",
    "import dslabs_functions as dslab\n",
    "\n",
    "file_tag = 'credit_score'\n",
    "filename = 'class_credit_score.csv'\n",
    "original_dataset: pd.DataFrame = pd.read_csv(filename, index_col='ID', sep=',', decimal='.', na_values='')\n",
    "\n",
    "# Drop IDentifying Columns\n",
    "dataset_cleaned = original_dataset.drop(columns=['Customer_ID', 'Name', 'SSN'], errors='ignore')\n",
    "\n",
    "# Erase Input Errors\n",
    "## Check and Clean 'SSN' & 'Age' Column\n",
    "pattern = r'^\\d{3}-\\d{2}-\\d{4}$'  # Replace this with your SSN regex pattern\n",
    "#dataset_cleaned['SSN'] = dataset_cleaned['SSN'].apply(lambda x: x if re.match(pattern, str(x)) else np.nan)\n",
    "dataset_cleaned['Age'] = dataset_cleaned['Age'].astype(str).str.replace('_', '', regex=False)\n",
    "\n",
    "## Transfrom 'Age' from SIMBOLIC to NUMERIC\n",
    "dataset_cleaned['Age'] = pd.to_numeric(dataset_cleaned['Age'], errors='coerce')\n",
    "\n",
    "## Invalid Numeric Variables 'Age', 'Num_Bank_Accounts', 'NumofLoan' Column\n",
    "dataset_cleaned['Age'] = dataset_cleaned['Age'].apply(lambda x: np.nan if x == -500 or x >= 150 else x)\n",
    "dataset_cleaned['Num_Bank_Accounts'] = dataset_cleaned['Num_Bank_Accounts'].apply(lambda x: x if x >= 0 else np.nan)\n",
    "dataset_cleaned['NumofLoan'] = dataset_cleaned['NumofLoan'].apply(lambda x: x if x >= 0 else np.nan)\n",
    "\n",
    "# Monthly_Balance \n",
    "dataset_cleaned['MonthlyBalance'] = dataset_cleaned['MonthlyBalance'].apply(lambda x: x if x >= 0 else np.nan)\n",
    "\n",
    "## Transform 'Credit_History_Age' from SIMBOLIC to NUMERIC\n",
    "hist_age = dataset_cleaned[\"Credit_History_Age\"]\n",
    "hist_vals = []\n",
    "\n",
    "for val in hist_age:\n",
    "    matches = re.findall(r'(\\d+) Years and (\\d+) Months', str(val))\n",
    "    if not matches:  # Use `not matches` instead of `matches == []`\n",
    "        hist_vals.append(np.nan)\n",
    "    else:\n",
    "        hist_vals.append(float(matches[0][0]) + (float(matches[0][1]) / 12))\n",
    "\n",
    "dataset_cleaned[\"Credit_History_Age\"] = hist_vals\n",
    "\n",
    "### Drop 'Credit_History_Age' as OBJECT \n",
    "object_columns = dataset_cleaned.select_dtypes(include=['object']).columns.tolist()\n",
    "if \"CreditHistoryAge\" in object_columns:\n",
    "    dataset_cleaned.drop(columns=[\"CreditHistoryAge\"], inplace=True)\n",
    "\n",
    "# Get Variables Type Right (Object to Category)\n",
    "variables_types: dict[str, list] = dslab.get_variable_types(dataset_cleaned)\n",
    "numeric: list[str] = variables_types[\"numeric\"]\n",
    "symbolic: list[str] = variables_types[\"symbolic\"]\n",
    "binary: list[str] = variables_types[\"binary\"]\n",
    "\n",
    "print(variables_types)\n",
    "\n",
    "# Object to Category (same as symbolic in Pandas)\n",
    "dataset_cleaned[symbolic] = dataset_cleaned[symbolic].apply(lambda x: x.astype(\"category\"))\n",
    "print(dataset_cleaned.dtypes)"
   ]
  },
  {
   "cell_type": "markdown",
   "metadata": {},
   "source": [
    "### Variable Enconding\n",
    "\n",
    "- *'Credit_History_Age' feito na 1ª célula*\n",
    "\n",
    "1. Order Enconding Binary *(order is irrelevant)*\n",
    "    - 'Credit_Score' \n",
    "\n",
    "2. Order Enconding *(order is relevant)*\n",
    "    - 'CreditMix' [Bad, Standard, Good]\n",
    "    - 'Payment_of_Min_Amount' ['No', 'NM', 'Yes']\n",
    "    - 'Payment_Behaviour' ['Low_spent_Small_value_payments', 'Low_spent_Medium_value_payments', 'Low_spent_Large_value_payments', 'High_spent_Small_value_payments', 'High_spent_Medium_value_payments', 'High_spent_Large_value_payments']\n",
    "\n",
    "3. Cyclic Variables\n",
    "    - 'Month' ordenar primeiro [January, February, March, ...]\n",
    "\n",
    "4. TODO\n",
    "    - 'Occupation'\n",
    "    - 'Type_of_Loan'"
   ]
  },
  {
   "cell_type": "code",
   "execution_count": 12,
   "metadata": {},
   "outputs": [
    {
     "ename": "AttributeError",
     "evalue": "'list' object has no attribute 'tolist'",
     "output_type": "error",
     "traceback": [
      "\u001b[1;31m---------------------------------------------------------------------------\u001b[0m",
      "\u001b[1;31mAttributeError\u001b[0m                            Traceback (most recent call last)",
      "\u001b[1;32mc:\\Users\\franc\\Desktop\\TECNICO\\Cadeiras\\1_semestre\\2Periodo\\CD\\Projeto\\CD_IST\\dataset_services\\data_preparation.ipynb Cell 6\u001b[0m line \u001b[0;36m1\n\u001b[0;32m     <a href='vscode-notebook-cell:/c%3A/Users/franc/Desktop/TECNICO/Cadeiras/1_semestre/2Periodo/CD/Projeto/CD_IST/dataset_services/data_preparation.ipynb#W6sZmlsZQ%3D%3D?line=10'>11</a>\u001b[0m data_encoded: pd\u001b[39m.\u001b[39mDataFrame \u001b[39m=\u001b[39m dataset_cleaned\u001b[39m.\u001b[39mreplace(encoding, inplace\u001b[39m=\u001b[39m\u001b[39mFalse\u001b[39;00m)\n\u001b[0;32m     <a href='vscode-notebook-cell:/c%3A/Users/franc/Desktop/TECNICO/Cadeiras/1_semestre/2Periodo/CD/Projeto/CD_IST/dataset_services/data_preparation.ipynb#W6sZmlsZQ%3D%3D?line=11'>12</a>\u001b[0m data_encoded\u001b[39m.\u001b[39mhead(\u001b[39m1\u001b[39m)\n\u001b[1;32m---> <a href='vscode-notebook-cell:/c%3A/Users/franc/Desktop/TECNICO/Cadeiras/1_semestre/2Periodo/CD/Projeto/CD_IST/dataset_services/data_preparation.ipynb#W6sZmlsZQ%3D%3D?line=13'>14</a>\u001b[0m \u001b[39mprint\u001b[39m([\u001b[39m'\u001b[39;49m\u001b[39mHigh_spent_Large_value_payments\u001b[39;49m\u001b[39m'\u001b[39;49m, \u001b[39m'\u001b[39;49m\u001b[39mHigh_spent_Medium_value_payments\u001b[39;49m\u001b[39m'\u001b[39;49m, \u001b[39m'\u001b[39;49m\u001b[39mHigh_spent_Small_value_payments\u001b[39;49m\u001b[39m'\u001b[39;49m, \u001b[39m'\u001b[39;49m\u001b[39mLow_spent_Large_value_payments\u001b[39;49m\u001b[39m'\u001b[39;49m, \u001b[39m'\u001b[39;49m\u001b[39mLow_spent_Medium_value_payments\u001b[39;49m\u001b[39m'\u001b[39;49m, \u001b[39m'\u001b[39;49m\u001b[39mLow_spent_Small_value_payments\u001b[39;49m\u001b[39m'\u001b[39;49m]\u001b[39m.\u001b[39;49mtolist()\u001b[39m.\u001b[39mreverse)\n",
      "\u001b[1;31mAttributeError\u001b[0m: 'list' object has no attribute 'tolist'"
     ]
    }
   ],
   "source": [
    "# Enconding 'Data_Score' Binary - Ordinal Enconding (easiest one)\n",
    "variables_types\n",
    "\n",
    "yes_no: dict[str, int] = {\"no\": 0, \"No\": 0, \"yes\": 1, \"Yes\": 1}\n",
    "credit_score_values: dict[str, int] = {\"Poor\": 0, \"Good\": 1}\n",
    "\n",
    "encoding: dict[str, dict[str, int]] = {\n",
    "    \"Credit_Score\": credit_score_values,\n",
    "}\n",
    "\n",
    "data_encoded: pd.DataFrame = dataset_cleaned.replace(encoding, inplace=False)\n",
    "data_encoded.head(1)"
   ]
  },
  {
   "cell_type": "code",
   "execution_count": 8,
   "metadata": {},
   "outputs": [
    {
     "name": "stdout",
     "output_type": "stream",
     "text": [
      "Month ['January', 'February', 'March', 'April', 'May', 'June', 'July', 'August']\n",
      "Categories (8, object): ['April', 'August', 'February', 'January', 'July', 'June', 'March', 'May']\n",
      "Occupation ['Scientist', NaN, 'Teacher', 'Engineer', 'Entrepreneur', ..., 'Accountant', 'Musician', 'Mechanic', 'Writer', 'Architect']\n",
      "Length: 16\n",
      "Categories (15, object): ['Accountant', 'Architect', 'Developer', 'Doctor', ..., 'Musician', 'Scientist', 'Teacher', 'Writer']\n",
      "Type_of_Loan ['Auto Loan, Credit-Builder Loan, Personal Loan..., 'Credit-Builder Loan', 'Auto Loan, Auto Loan, and Not Specified', 'Not Specified', NaN, ..., 'Auto Loan, Payday Loan, Auto Loan, Student Lo..., 'Home Equity Loan, Payday Loan, Not Specified,..., 'Home Equity Loan, Auto Loan, Auto Loan, and A..., 'Payday Loan, Student Loan, Mortgage Loan, and..., 'Personal Loan, Auto Loan, Mortgage Loan, Stud...]\n",
      "Length: 6261\n",
      "Categories (6260, object): ['Auto Loan', 'Auto Loan, Auto Loan, Auto Loan, Auto Loan, C..., 'Auto Loan, Auto Loan, Auto Loan, Auto Loan, S..., 'Auto Loan, Auto Loan, Auto Loan, Credit-Build..., ..., 'Student Loan, and Not Specified', 'Student Loan, and Payday Loan', 'Student Loan, and Personal Loan', 'Student Loan, and Student Loan']\n",
      "CreditMix [NaN, 'Good', 'Standard', 'Bad']\n",
      "Categories (3, object): ['Bad', 'Good', 'Standard']\n",
      "Payment_of_Min_Amount ['No', 'NM', 'Yes']\n",
      "Categories (3, object): ['NM', 'No', 'Yes']\n",
      "Payment_Behaviour ['High_spent_Small_value_payments', 'Low_spent_Large_value_payments', 'Low_spent_Medium_value_payments', 'Low_spent_Small_value_payments', 'High_spent_Medium_value_payments', NaN, 'High_spent_Large_value_payments']\n",
      "Categories (6, object): ['High_spent_Large_value_payments', 'High_spent_Medium_value_payments', 'High_spent_Small_value_payments', 'Low_spent_Large_value_payments', 'Low_spent_Medium_value_payments', 'Low_spent_Small_value_payments']\n"
     ]
    }
   ],
   "source": [
    "# Collect Individual values for each symbolic var, in order to encode the rest\n",
    "data_encoded\n",
    "\n",
    "for v in variables_types[\"symbolic\"]:\n",
    "    print(v, data_encoded[v].unique())"
   ]
  }
 ],
 "metadata": {
  "kernelspec": {
   "display_name": "Python 3",
   "language": "python",
   "name": "python3"
  },
  "language_info": {
   "codemirror_mode": {
    "name": "ipython",
    "version": 3
   },
   "file_extension": ".py",
   "mimetype": "text/x-python",
   "name": "python",
   "nbconvert_exporter": "python",
   "pygments_lexer": "ipython3",
   "version": "3.12.0"
  }
 },
 "nbformat": 4,
 "nbformat_minor": 2
}
