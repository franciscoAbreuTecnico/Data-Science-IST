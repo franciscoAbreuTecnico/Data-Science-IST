{
 "cells": [
  {
   "cell_type": "markdown",
   "metadata": {},
   "source": [
    "# Projeto"
   ]
  },
  {
   "cell_type": "markdown",
   "metadata": {},
   "source": [
    "## Data Preparation"
   ]
  },
  {
   "cell_type": "markdown",
   "metadata": {},
   "source": [
    "### 3 Alternativas (mudar para 3 se houver tempo):\n",
    "1. \n",
    "\n",
    "2. \n",
    "\n",
    "3. "
   ]
  },
  {
   "cell_type": "code",
   "execution_count": 3,
   "metadata": {},
   "outputs": [
    {
     "name": "stdout",
     "output_type": "stream",
     "text": [
      "Dataset nr records=99934 nr variables=31\n"
     ]
    },
    {
     "data": {
      "text/plain": [
       "Index(['Unnamed: 0', 'Month', 'Occupation', 'Payment_of_Min_Amount',\n",
       "       'Payment_Behaviour', 'Payday Loan', 'Personal Loan',\n",
       "       'Debt Consolidation Loan', 'Auto Loan', 'Not Specified Loan',\n",
       "       'Student Loan', 'Credit-Builder Loan', 'Mortgage Loan',\n",
       "       'Home Equity Loan', 'Credit_Score', 'Age', 'Annual_Income',\n",
       "       'Num_Bank_Accounts', 'Num_Credit_Card', 'Interest_Rate', 'NumofLoan',\n",
       "       'Delay_from_due_date', 'NumofDelayedPayment', 'ChangedCreditLimit',\n",
       "       'NumCreditInquiries', 'OutstandingDebt', 'CreditUtilizationRatio',\n",
       "       'Credit_History_Age', 'TotalEMIpermonth', 'Amountinvestedmonthly',\n",
       "       'MonthlyBalance'],\n",
       "      dtype='object')"
      ]
     },
     "execution_count": 3,
     "metadata": {},
     "output_type": "execute_result"
    }
   ],
   "source": [
    "import pandas as pd\n",
    "\n",
    "filename = 'data_preparation_csvs/mv_imputation_csvs/data_mv_alt1.csv'\n",
    "data_mv_imputation: pd.DataFrame = pd.read_csv(filename, sep=',', decimal='.', na_values='')\n",
    "print(f\"Dataset nr records={data_mv_imputation.shape[0]}\", f\"nr variables={data_mv_imputation.shape[1]}\")\n",
    "data_mv_imputation.columns"
   ]
  }
 ],
 "metadata": {
  "kernelspec": {
   "display_name": "Python 3",
   "language": "python",
   "name": "python3"
  },
  "language_info": {
   "codemirror_mode": {
    "name": "ipython",
    "version": 3
   },
   "file_extension": ".py",
   "mimetype": "text/x-python",
   "name": "python",
   "nbconvert_exporter": "python",
   "pygments_lexer": "ipython3",
   "version": "3.12.0"
  }
 },
 "nbformat": 4,
 "nbformat_minor": 2
}
