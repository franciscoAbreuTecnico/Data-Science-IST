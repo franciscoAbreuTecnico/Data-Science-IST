{
 "cells": [
  {
   "cell_type": "markdown",
   "metadata": {},
   "source": [
    "# Feature Engineering\n",
    "\n",
    "1. Select low/high-variance variables\n",
    "2. Dropping redundant variables\n",
    "3. RFE"
   ]
  },
  {
   "cell_type": "code",
   "execution_count": 21,
   "metadata": {},
   "outputs": [
    {
     "name": "stdout",
     "output_type": "stream",
     "text": [
      "Dataset nr records=83816 nr variables=32\n"
     ]
    }
   ],
   "source": [
    "import pandas as pd\n",
    "import dslabs_functions as dslabs\n",
    "from sklearn.preprocessing import StandardScaler\n",
    "from sklearn.model_selection import train_test_split\n",
    "from sklearn.preprocessing import MinMaxScaler\n",
    "from matplotlib.pyplot import subplots, show\n",
    "from matplotlib.pyplot import savefig, figure\n",
    "\n",
    "## tratar da primeira coluna nos notebooks anteriores\n",
    "winning_alternative_scaling = 2\n",
    "folder = \"feat_eng_csvs\"\n",
    "filename = f'../data_preparation_csvs/scaling_csvs/data_scaled_minmax_alt{winning_alternative_scaling}.csv'\n",
    "data_scaling: pd.DataFrame = pd.read_csv(filename, sep=',', decimal='.', na_values='')\n",
    "print(f\"Dataset nr records={data_scaling.shape[0]}\", f\"nr variables={data_scaling.shape[1]}\")\n",
    "filename_prefix = \"../data_preparation_csvs/outliers_treatment_csvs/feature_eng_\""
   ]
  },
  {
   "cell_type": "code",
   "execution_count": 22,
   "metadata": {},
   "outputs": [],
   "source": [
    "# Save to file\n",
    "def save(df, name):\n",
    "    df.to_csv(f'{filename_prefix}{name}_data.csv', index=False)\n",
    "\n",
    "    ## Separate into Train and Test and save in different files\n",
    "    train_data, test_data = train_test_split(df, test_size=0.2, random_state=42)\n",
    "\n",
    "    ## Save the training and testing sets to CSV files\n",
    "    train_data.to_csv(f'../data_preparation_csvs/{folder}/train_data_mv_{name}.csv', index=False)\n",
    "    test_data.to_csv(f'../data_preparation_csvs/{folder}/test_data_mv_{name}.csv', index=False)\n",
    "\n",
    "    ## Evaluate Approach\n",
    "    file_tag = \"Credit_Score\"\n",
    "    target = \"Credit_Score\"\n",
    "\n",
    "    figure()\n",
    "    eval: dict[str, list] = dslabs.evaluate_approach(train_data, test_data, target=target, metric=\"recall\")\n",
    "    dslabs.plot_multibar_chart(\n",
    "        [\"NB\", \"KNN\"], eval, title=f\"{file_tag} evaluation\", percentage=True\n",
    "    )\n",
    "    savefig(f\"../data_preparation_images/{folder}_result/data_mv_{name}_eval.png\")\n",
    "    show()"
   ]
  },
  {
   "cell_type": "code",
   "execution_count": 23,
   "metadata": {},
   "outputs": [
    {
     "name": "stdout",
     "output_type": "stream",
     "text": [
      "0        0.0\n",
      "1        0.0\n",
      "2        0.0\n",
      "3        0.0\n",
      "4        0.0\n",
      "        ... \n",
      "83811    0.0\n",
      "83812    0.0\n",
      "83813    0.0\n",
      "83814    0.0\n",
      "83815    0.0\n",
      "Name: Credit-Builder Loan, Length: 83816, dtype: float64\n",
      "Original variables ['Month', 'Occupation', 'Payment_of_Min_Amount', 'CreditMix', 'Payment_Behaviour', 'Payday Loan', 'Personal Loan', 'Debt Consolidation Loan', 'Auto Loan', 'Not Specified Loan', 'Student Loan', 'Credit-Builder Loan', 'Mortgage Loan', 'Home Equity Loan', 'Age', 'Annual_Income', 'Monthly_Inhand_Salary', 'Num_Bank_Accounts', 'Num_Credit_Card', 'Interest_Rate', 'NumofLoan', 'Delay_from_due_date', 'NumofDelayedPayment', 'ChangedCreditLimit', 'NumCreditInquiries', 'OutstandingDebt', 'CreditUtilizationRatio', 'Credit_History_Age', 'TotalEMIpermonth', 'Amountinvestedmonthly', 'MonthlyBalance', 'Credit_Score']\n",
      "Variables to drop ['Month', 'Occupation', 'Payment_of_Min_Amount', 'CreditMix', 'Payment_Behaviour', 'Payday Loan', 'Personal Loan', 'Debt Consolidation Loan', 'Auto Loan', 'Not Specified Loan', 'Student Loan', 'Credit-Builder Loan', 'Mortgage Loan', 'Home Equity Loan', 'Age', 'Annual_Income', 'Monthly_Inhand_Salary', 'Num_Bank_Accounts', 'Num_Credit_Card', 'Interest_Rate', 'NumofLoan', 'Delay_from_due_date', 'NumofDelayedPayment', 'ChangedCreditLimit', 'NumCreditInquiries', 'OutstandingDebt', 'CreditUtilizationRatio', 'Credit_History_Age', 'TotalEMIpermonth', 'Amountinvestedmonthly', 'MonthlyBalance', 'Credit_Score']\n"
     ]
    }
   ],
   "source": [
    "target = \"stroke\"\n",
    "file_tag = \"stroke\"\n",
    "#print(data_scaling.describe().loc[\"std\"]*data_scaling.describe().loc[\"std\"])\n",
    "\n",
    "print(data_scaling[\"Credit-Builder Loan\"])\n",
    "\n",
    "print(\"Original variables\", data_scaling.columns.to_list())\n",
    "vars2drop: list[str] = dslabs.select_low_variance_variables(data_scaling, 3, target=target)\n",
    "print(\"Variables to drop\", vars2drop)"
   ]
  },
  {
   "cell_type": "code",
   "execution_count": null,
   "metadata": {},
   "outputs": [],
   "source": [
    "vars2drop: list[str] = dslabs.select_low_variance_variables(\n",
    "    train, max_threshold=1.2, target=target\n",
    ")\n",
    "train_cp, test_cp = apply_feature_selection(\n",
    "    train, test, vars2drop, filename=f\"data/{file_tag}\", tag=\"lowvar\"\n",
    ")\n",
    "print(f\"Original data: train={train.shape}, test={test.shape}\")\n",
    "print(f\"After low variance FS: train_cp={train_cp.shape}, test_cp={test_cp.shape}\")"
   ]
  }
 ],
 "metadata": {
  "kernelspec": {
   "display_name": "Python 3",
   "language": "python",
   "name": "python3"
  },
  "language_info": {
   "codemirror_mode": {
    "name": "ipython",
    "version": 3
   },
   "file_extension": ".py",
   "mimetype": "text/x-python",
   "name": "python",
   "nbconvert_exporter": "python",
   "pygments_lexer": "ipython3",
   "version": "3.12.0"
  }
 },
 "nbformat": 4,
 "nbformat_minor": 2
}
