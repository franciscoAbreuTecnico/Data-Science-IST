{
 "cells": [
  {
   "cell_type": "markdown",
   "metadata": {},
   "source": [
    "## MV Imputation"
   ]
  },
  {
   "cell_type": "markdown",
   "metadata": {},
   "source": [
    "### 3 Alternativas (atleast 2):\n",
    "1. Eliminate Columns & Rows bove certain Threshold\n",
    "- **1.1** Eliminate Columns with percentage(%) of Missing Values above 15% 'Credit_Mix' && 'Monthly_Inhand_Salary'\n",
    "- **1.2** Eliminate Rows with percentage(%) of Missing Values above 16%\n",
    "- **1.3** Fill Missing Values using Mean for Numerics and Most-frequent to Symbolic\n",
    "\n",
    "2. Filling Missing Values (median & most_frequent)\n",
    "\n",
    "3. Don´t eliminate any Columns or Rows (knnimputer)"
   ]
  },
  {
   "cell_type": "code",
   "execution_count": 3,
   "metadata": {},
   "outputs": [
    {
     "name": "stdout",
     "output_type": "stream",
     "text": [
      "Dataset nr records=100000 nr variables=32\n"
     ]
    }
   ],
   "source": [
    "import pandas as pd\n",
    "from matplotlib.pyplot import figure, show\n",
    "from sklearn.impute import SimpleImputer\n",
    "import dslabs_functions as dslabs\n",
    "from sklearn.model_selection import train_test_split\n",
    "from matplotlib.pyplot import savefig\n",
    "from sklearn.impute import KNNImputer\n",
    "\n",
    "filename = '../data_preparation_csvs/enconding_csvs/data_encoded.csv'\n",
    "data_encoded: pd.DataFrame = pd.read_csv(filename, index_col='ID', sep=',', decimal='.', na_values='')\n",
    "print(f\"Dataset nr records={data_encoded.shape[0]}\", f\"nr variables={data_encoded.shape[1]}\")\n",
    "##print(data_encoded.dtypes)\n",
    "\n",
    "most_frequent = ['Month', 'Occupation', 'Payment_of_Min_Amount', 'Credit_Mix', 'Monthly_Inhand_Salary'\n",
    "                 , 'Payment_Behaviour', 'Payday Loan', 'Personal Loan', 'Debt Consolidation Loan'\n",
    "                 , 'Auto Loan', 'Not Specified Loan', 'Student Loan', 'Credit-Builder Loan'\n",
    "                 , 'Mortgage Loan', 'Home Equity Loan', 'Credit_Score']\n",
    "\n",
    "## Strategies to be used\n",
    "imputer_mean = SimpleImputer(strategy='mean')\n",
    "imputer_mode = SimpleImputer(strategy='most_frequent')\n",
    "imputer_median = SimpleImputer(strategy='median')\n",
    "imputer_knn = KNNImputer(n_neighbors=5)"
   ]
  },
  {
   "cell_type": "code",
   "execution_count": 2,
   "metadata": {},
   "outputs": [],
   "source": [
    "def save(df, name):\n",
    "    df.to_csv(f'../data_preparation_csvs/mv_imputation_csvs/imputed_{name}.csv', index=True)\n",
    "\n",
    "    ## Separate into Train and Test and save in different files\n",
    "    train_data, test_data = train_test_split(df, test_size=0.2, random_state=42)\n",
    "\n",
    "    ## Save the training and testing sets to CSV files\n",
    "    train_data.to_csv('../data_preparation_csvs/mv_imputation_csvs/train_data_mv_{name}.csv', index=True)\n",
    "    test_data.to_csv('../data_preparation_csvs/mv_imputation_csvs/test_data_mv_{name}.csv', index=True)\n",
    "\n",
    "    ## Evaluate Approach\n",
    "    file_tag = \"Credit_Score\"\n",
    "    target = \"Credit_Score\"\n",
    "\n",
    "    figure()\n",
    "    eval: dict[str, list] = dslabs.evaluate_approach(train_data, test_data, target=target, metric=\"recall\")\n",
    "    dslabs.plot_multibar_chart(\n",
    "        [\"NB\", \"KNN\"], eval, title=f\"{file_tag} evaluation\", percentage=True\n",
    "    )\n",
    "    savefig(f\"../data_preparation_images/missing_values_imputation_result/data_mv_{name}_eval.png\")\n",
    "    show()"
   ]
  },
  {
   "cell_type": "code",
   "execution_count": 5,
   "metadata": {},
   "outputs": [
    {
     "name": "stdout",
     "output_type": "stream",
     "text": [
      "Average Accuracy: 0.7623191182098081\n"
     ]
    }
   ],
   "source": [
    "# Cross-validation analysis to determine best k\n",
    "\n",
    "import numpy as np\n",
    "from sklearn.metrics import accuracy_score\n",
    "from sklearn.model_selection import KFold\n",
    "from sklearn.neighbors import KNeighborsClassifier\n",
    "\n",
    "new_data = data_encoded.dropna()\n",
    "\n",
    "n_neighbors = 100000\n",
    "n_folds = 5\n",
    "kf = KFold(n_splits=n_folds)\n",
    "\n",
    "accuracies = []\n",
    "\n",
    "for train_index, val_index in kf.split(new_data):\n",
    "    X_train, X_val = new_data.iloc[train_index], new_data.iloc[val_index]\n",
    "    y_train, y_val = new_data[\"Credit_Score\"].iloc[train_index], new_data[\"Credit_Score\"].iloc[val_index]\n",
    "    \n",
    "    # Initialize kNN classifier\n",
    "    knn = KNeighborsClassifier(n_neighbors=int(100))\n",
    "    \n",
    "    # Train the model\n",
    "    knn.fit(X_train, y_train)\n",
    "    \n",
    "    # Make predictions\n",
    "    predictions = knn.predict(X_val)\n",
    "    \n",
    "    # Calculate accuracy\n",
    "    accuracy = accuracy_score(y_val, predictions)\n",
    "    accuracies.append(accuracy)\n",
    "\n",
    "average_accuracy = sum(accuracies) / len(accuracies)\n",
    "print(\"Average Accuracy:\", average_accuracy)"
   ]
  },
  {
   "cell_type": "code",
   "execution_count": 1,
   "metadata": {},
   "outputs": [
    {
     "ename": "NameError",
     "evalue": "name 'pd' is not defined",
     "output_type": "error",
     "traceback": [
      "\u001b[0;31m---------------------------------------------------------------------------\u001b[0m",
      "\u001b[0;31mNameError\u001b[0m                                 Traceback (most recent call last)",
      "\u001b[1;32m/home/ruben/ist/cd/CD_IST/dataset_services/rubene/mv_imputation.ipynb Cell 6\u001b[0m line \u001b[0;36m3\n\u001b[1;32m      <a href='vscode-notebook-cell://wsl%2Bubuntu-20.04/home/ruben/ist/cd/CD_IST/dataset_services/rubene/mv_imputation.ipynb#W6sdnNjb2RlLXJlbW90ZQ%3D%3D?line=0'>1</a>\u001b[0m \u001b[39m# Alternative 3\u001b[39;00m\n\u001b[0;32m----> <a href='vscode-notebook-cell://wsl%2Bubuntu-20.04/home/ruben/ist/cd/CD_IST/dataset_services/rubene/mv_imputation.ipynb#W6sdnNjb2RlLXJlbW90ZQ%3D%3D?line=2'>3</a>\u001b[0m knn_imputed \u001b[39m=\u001b[39m pd\u001b[39m.\u001b[39mDataFrame(imputer_knn\u001b[39m.\u001b[39mfit_transform(data_encoded))\n\u001b[1;32m      <a href='vscode-notebook-cell://wsl%2Bubuntu-20.04/home/ruben/ist/cd/CD_IST/dataset_services/rubene/mv_imputation.ipynb#W6sdnNjb2RlLXJlbW90ZQ%3D%3D?line=4'>5</a>\u001b[0m save(knn_imputed, \u001b[39m\"\u001b[39m\u001b[39malt3\u001b[39m\u001b[39m\"\u001b[39m)\n",
      "\u001b[0;31mNameError\u001b[0m: name 'pd' is not defined"
     ]
    }
   ],
   "source": [
    "# Alternative 3\n",
    "\n",
    "knn_imputed = pd.DataFrame(imputer_knn.fit_transform(data_encoded))\n",
    "\n",
    "save(knn_imputed, \"alt3\")"
   ]
  }
 ],
 "metadata": {
  "kernelspec": {
   "display_name": "Python 3",
   "language": "python",
   "name": "python3"
  },
  "language_info": {
   "codemirror_mode": {
    "name": "ipython",
    "version": 3
   },
   "file_extension": ".py",
   "mimetype": "text/x-python",
   "name": "python",
   "nbconvert_exporter": "python",
   "pygments_lexer": "ipython3",
   "version": "3.12.0"
  }
 },
 "nbformat": 4,
 "nbformat_minor": 2
}
