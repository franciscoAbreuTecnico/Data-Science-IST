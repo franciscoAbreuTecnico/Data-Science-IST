{
 "cells": [
  {
   "cell_type": "markdown",
   "metadata": {},
   "source": [
    "# Projeto"
   ]
  },
  {
   "cell_type": "code",
   "execution_count": 1,
   "metadata": {},
   "outputs": [],
   "source": [
    "import pandas as pd\n",
    "import re\n",
    "from matplotlib.pyplot import figure, savefig, show\n",
    "from dslabs_functions import plot_bar_chart"
   ]
  },
  {
   "cell_type": "code",
   "execution_count": 2,
   "metadata": {},
   "outputs": [
    {
     "data": {
      "text/plain": [
       "Customer_ID                object\n",
       "Month                      object\n",
       "Name                       object\n",
       "Age                        object\n",
       "SSN                        object\n",
       "Occupation                 object\n",
       "Annual_Income             float64\n",
       "Monthly_Inhand_Salary     float64\n",
       "Num_Bank_Accounts           int64\n",
       "Num_Credit_Card             int64\n",
       "Interest_Rate               int64\n",
       "NumofLoan                   int64\n",
       "Type_of_Loan               object\n",
       "Delay_from_due_date         int64\n",
       "NumofDelayedPayment       float64\n",
       "ChangedCreditLimit        float64\n",
       "NumCreditInquiries        float64\n",
       "CreditMix                  object\n",
       "OutstandingDebt           float64\n",
       "CreditUtilizationRatio    float64\n",
       "Credit_History_Age         object\n",
       "Payment_of_Min_Amount      object\n",
       "TotalEMIpermonth          float64\n",
       "Amountinvestedmonthly     float64\n",
       "Payment_Behaviour          object\n",
       "MonthlyBalance            float64\n",
       "Credit_Score               object\n",
       "dtype: object"
      ]
     },
     "execution_count": 2,
     "metadata": {},
     "output_type": "execute_result"
    }
   ],
   "source": [
    "from pandas import DataFrame\n",
    "\n",
    "file_tag = 'credit_score'\n",
    "filename = 'class_credit_score.csv'\n",
    "original_dataset: DataFrame = pd.read_csv(filename, index_col='ID', sep=',', decimal='.', na_values='')\n",
    "\n",
    "original_dataset.dtypes"
   ]
  },
  {
   "cell_type": "markdown",
   "metadata": {},
   "source": [
    "*Tratar de valores de input errados*\n"
   ]
  },
  {
   "cell_type": "code",
   "execution_count": 3,
   "metadata": {},
   "outputs": [],
   "source": [
    "import numpy as np\n",
    "\n",
    "columns_to_treat = [\"Age\", \"SSN\", \"Num_Bank_Accounts\", \"Interest_Rate\", \"NumofLoan\", \"Payment_of_Min_Amount\", \"MonthlyBalance\"]\n",
    "relevant = [\"Age\", \"Num_Bank_Accounts\", \"Interest_Rate\", \"NumofLoan\", \"Payment_of_Min_Amount\", \"MonthlyBalance\"]\n",
    "\n",
    "df = pd.DataFrame(original_dataset)\n",
    "\n",
    "df['Age'] = pd.to_numeric(df['Age'], errors='coerce')\n",
    "df['Age'] = df['Age'].apply(lambda x: np.nan if x == -500 or x >= 150 else x)\n",
    "df['Age'] = df['Age'].astype(str).str.replace('_', '', regex=False)\n",
    "df['Age'] = pd.to_numeric(df['Age'], errors='coerce')\n",
    "\n",
    "# Check and clean 'SSN' column\n",
    "pattern = r'^\\d{3}-\\d{2}-\\d{4}$'  # Replace this with your SSN regex pattern\n",
    "df['SSN'] = df['SSN'].apply(lambda x: x if re.match(pattern, str(x)) else np.nan)\n",
    "\n",
    "df['Num_Bank_Accounts'] = df['Num_Bank_Accounts'].apply(lambda x: x if x >= 0 else np.nan)\n",
    "\n",
    "#df['Interest_Rate'] = df['Interest_Rate'].apply(lambda x: x if x >= 0 and x <= 100 else np.nan) TAXAS JURO ACIMA DE 30 E TAL IMPOSSIVEL\n",
    "\n",
    "df['NumofLoan'] = df['NumofLoan'].apply(lambda x: x if x >= 0 else np.nan)\n",
    "\n",
    "df['MonthlyBalance'] = df['MonthlyBalance'].apply(lambda x: x if x >= 0 else np.nan)"
   ]
  },
  {
   "cell_type": "code",
   "execution_count": 4,
   "metadata": {},
   "outputs": [
    {
     "name": "stdout",
     "output_type": "stream",
     "text": [
      "['Age', 'Annual_Income', 'Monthly_Inhand_Salary', 'Num_Bank_Accounts', 'Num_Credit_Card', 'Interest_Rate', 'NumofLoan', 'Delay_from_due_date', 'NumofDelayedPayment', 'ChangedCreditLimit', 'NumCreditInquiries', 'OutstandingDebt', 'CreditUtilizationRatio', 'TotalEMIpermonth', 'Amountinvestedmonthly', 'MonthlyBalance']\n"
     ]
    }
   ],
   "source": [
    "from dslabs_functions import get_variable_types\n",
    "\n",
    "variables_types: dict[str, list] = get_variable_types(df)\n",
    "numeric: list[str] = variables_types[\"numeric\"]\n",
    "print(numeric)"
   ]
  },
  {
   "cell_type": "markdown",
   "metadata": {},
   "source": [
    "## Data Profiling"
   ]
  },
  {
   "cell_type": "markdown",
   "metadata": {},
   "source": [
    "### Data Dimensionality"
   ]
  },
  {
   "cell_type": "markdown",
   "metadata": {},
   "source": [
    "#### Figure 1 Nr Records x Nr numeric"
   ]
  },
  {
   "cell_type": "markdown",
   "metadata": {},
   "source": [
    "*vale a pena experimentar com outros tipos de gráficos???*\n",
    "- nao ha curse of dimensionality"
   ]
  },
  {
   "cell_type": "code",
   "execution_count": null,
   "metadata": {},
   "outputs": [],
   "source": [
    "from matplotlib.pyplot import figure, savefig, show\n",
    "from dslabs_functions import plot_bar_chart\n",
    "\n",
    "figure(figsize=(4, 2))\n",
    "values: dict[str, int] = {\"nr records\": df.shape[0], \"nr numeric\": df.shape[1]}\n",
    "plot_bar_chart(\n",
    "    list(values.keys()), list(values.values()), title=\"Nr of records vs nr numeric\"\n",
    ")\n",
    "savefig(f\"images/dim_dist/fig_1_records_variables.png\")\n",
    "show()"
   ]
  },
  {
   "cell_type": "markdown",
   "metadata": {},
   "source": [
    "#### Figure 2 mr variables per type"
   ]
  },
  {
   "cell_type": "markdown",
   "metadata": {},
   "source": [
    "*Rever tipos de daods da função get_variable_type*\n",
    "- Trocar \"Age\" de simbólico para numérico"
   ]
  },
  {
   "cell_type": "code",
   "execution_count": null,
   "metadata": {},
   "outputs": [],
   "source": [
    "df.dtypes"
   ]
  },
  {
   "cell_type": "code",
   "execution_count": null,
   "metadata": {},
   "outputs": [],
   "source": [
    "from dslabs_functions import get_variable_types\n",
    "\n",
    "variable_types: dict[str, list] = get_variable_types(df)\n",
    "\n",
    "counts: dict[str, int] = {}\n",
    "for tp in variable_types.keys():\n",
    "    counts[tp] = len(variable_types[tp])\n",
    "\n",
    "figure(figsize=(4, 2))\n",
    "plot_bar_chart(\n",
    "    list(counts.keys()), list(counts.values()), title=\"Nr of variables per type\"\n",
    ")\n",
    "savefig(f\"images/dim_dist/fig_2_variable_types.png\")\n",
    "show()"
   ]
  },
  {
   "cell_type": "markdown",
   "metadata": {},
   "source": [
    "*Passar de object para category (simbolicas no panda)*"
   ]
  },
  {
   "cell_type": "code",
   "execution_count": null,
   "metadata": {},
   "outputs": [],
   "source": [
    "symbolic: list[str] = variable_types[\"symbolic\"]\n",
    "df[symbolic] = df[symbolic].apply(lambda x: x.astype(\"category\"))\n",
    "df.dtypes"
   ]
  },
  {
   "cell_type": "markdown",
   "metadata": {},
   "source": [
    "#### Figure 3 Nr missing values for dataset"
   ]
  },
  {
   "cell_type": "code",
   "execution_count": null,
   "metadata": {},
   "outputs": [],
   "source": [
    "mv = {}\n",
    "\n",
    "for var in df.columns:\n",
    "    nr = df[var].isna().sum()\n",
    "    print(var + \" - \" + str(nr))\n",
    "    if nr > 0:\n",
    "        mv[var] = nr"
   ]
  },
  {
   "cell_type": "code",
   "execution_count": null,
   "metadata": {},
   "outputs": [],
   "source": [
    "mv: dict[str, int] = {}\n",
    "\n",
    "for var in df.columns:\n",
    "    nr: int = df[var].isna().sum()\n",
    "    if nr > 0:\n",
    "        mv[var] = nr\n",
    "\n",
    "figure(figsize=(8, 4))\n",
    "plot_bar_chart(\n",
    "    list(mv.keys()),\n",
    "    list(mv.values()),\n",
    "    title=\"Nr of missing values per variable\",\n",
    "    xlabel=\"variables\",\n",
    "    ylabel=\"nr missing values\",\n",
    ")\n",
    "savefig(f\"images/dim_dist/figure_3_mv.png\")\n",
    "show()"
   ]
  },
  {
   "cell_type": "markdown",
   "metadata": {},
   "source": [
    "*Valores nulos em percentagem(%)*"
   ]
  },
  {
   "cell_type": "code",
   "execution_count": null,
   "metadata": {},
   "outputs": [],
   "source": [
    "mv: dict[str, int] = {}\n",
    "for var in df.columns:\n",
    "    nr: int = df[var].isna().sum()\n",
    "    percentage = (nr / len(df[var]))\n",
    "    if nr > 0:\n",
    "        mv[var] = percentage\n",
    "\n",
    "figure(figsize=(8, 4))\n",
    "plot_bar_chart(\n",
    "    list(mv.keys()),\n",
    "    list(mv.values()),\n",
    "    title=\"Nr of missing values per variable\",\n",
    "    xlabel=\"variables\",\n",
    "    ylabel=\"nr missing values\",\n",
    "    percentage=True\n",
    ")\n",
    "savefig(f\"images/dim_dist/figure_3_mv_percentages.png\")\n",
    "show()"
   ]
  },
  {
   "cell_type": "markdown",
   "metadata": {},
   "source": [
    "### Data Distribution"
   ]
  },
  {
   "cell_type": "code",
   "execution_count": null,
   "metadata": {},
   "outputs": [],
   "source": [
    "summary5: DataFrame = df.describe(include='all')\n",
    "summary5"
   ]
  },
  {
   "cell_type": "markdown",
   "metadata": {},
   "source": [
    "#### Figure 4 Global Boxplots"
   ]
  },
  {
   "cell_type": "markdown",
   "metadata": {},
   "source": [
    "*Não nos dá informação quase nenhuma*\n",
    "- Boxplots are not applicable to non-numeric variables."
   ]
  },
  {
   "cell_type": "code",
   "execution_count": null,
   "metadata": {},
   "outputs": [],
   "source": [
    "from matplotlib.pyplot import savefig, show\n",
    "from dslabs_functions import get_variable_types\n",
    "\n",
    "variables_types: dict[str, list] = get_variable_types(df)\n",
    "numeric: list[str] = variables_types[\"numeric\"]\n",
    "if [] != numeric:\n",
    "    df[numeric].boxplot(rot=90)\n",
    "    savefig(f\"images/dim_dist/fig_4_global_boxplot.png\")\n",
    "    show()\n",
    "else:\n",
    "    print(\"There are no numeric variables.\")"
   ]
  },
  {
   "cell_type": "markdown",
   "metadata": {},
   "source": [
    "*Tirar 'Annual_Income' && 'TotalEMIpermonth' para ver se temos outra perspetiva*"
   ]
  },
  {
   "cell_type": "code",
   "execution_count": null,
   "metadata": {},
   "outputs": [],
   "source": [
    "from matplotlib.pyplot import savefig, show\n",
    "from dslabs_functions import get_variable_types\n",
    "\n",
    "variables_types: dict[str, list] = get_variable_types(df)\n",
    "numeric: list[str] = variables_types[\"numeric\"]\n",
    "if [] != numeric:\n",
    "    excluded_indices = {1, len(numeric) - 3}\n",
    "    numeric_excluded = [var for idx, var in enumerate(numeric) if idx not in excluded_indices]\n",
    "    df[numeric_excluded].boxplot(rot=45)\n",
    "    savefig(f\"images/dim_dist/fig_4_global_boxplot_without_vars.png\")\n",
    "    show()\n",
    "else:\n",
    "    print(\"There are no numeric variables.\")"
   ]
  },
  {
   "cell_type": "markdown",
   "metadata": {},
   "source": [
    "#### Figure 6 Singe Variable Boxplots"
   ]
  },
  {
   "cell_type": "code",
   "execution_count": null,
   "metadata": {},
   "outputs": [],
   "source": [
    "from numpy import ndarray\n",
    "from matplotlib.figure import Figure\n",
    "from matplotlib.pyplot import savefig, show, subplots\n",
    "from dslabs_functions import define_grid, HEIGHT\n",
    "\n",
    "if [] != numeric:\n",
    "    rows: int\n",
    "    cols: int\n",
    "    rows, cols = define_grid(len(numeric))\n",
    "    fig: Figure\n",
    "    axs: ndarray\n",
    "    fig, axs = subplots(\n",
    "        rows, cols, figsize=(cols * HEIGHT, rows * HEIGHT), squeeze=False\n",
    "    )\n",
    "    i, j = 0, 0\n",
    "    for n in range(len(numeric)):\n",
    "        axs[i, j].set_title(\"Boxplot for %s\" % numeric[n])\n",
    "        axs[i, j].boxplot(df[numeric[n]].dropna().values)\n",
    "        i, j = (i + 1, 0) if (n + 1) % cols == 0 else (i, j + 1)\n",
    "    savefig(f\"images/dim_dist/fig_6_single_boxplots.png\")\n",
    "    show()\n",
    "else:\n",
    "    print(\"There are no numeric numeric.\")"
   ]
  },
  {
   "cell_type": "markdown",
   "metadata": {},
   "source": [
    "*MonthlyBalance Missing Values removed to analyse the Boxplot better// Faz sentido? Fazer o mesmo para outras?*"
   ]
  },
  {
   "cell_type": "markdown",
   "metadata": {},
   "source": [
    "#### Figure 8 Histograms"
   ]
  },
  {
   "cell_type": "markdown",
   "metadata": {},
   "source": [
    "*Numericos*"
   ]
  },
  {
   "cell_type": "code",
   "execution_count": null,
   "metadata": {},
   "outputs": [],
   "source": [
    "# \n",
    "\n",
    "# Granularity Numerical\n",
    "import matplotlib.pyplot as plt\n",
    "import dslabs_functions as ds\n",
    "import re\n",
    "import numpy as np\n",
    "\n",
    "n_histograms = [10, 25, 50]\n",
    "\n",
    "units = {\n",
    "    \"Age\": \"(Years)\",\n",
    "    \"Annual_Income\": \"($)\",\n",
    "\t\"Monthly_Inhand_Salary\": \"($)\",\n",
    "\t\"Num_Bank_Accounts\": \"\",\n",
    "    \"Num_Credit_Card\": \"\",\n",
    "\t\"Interest_Rate\": \"(%)\",\n",
    "\t\"NumofLoan\": \"\",\n",
    "\t\"Delay_from_due_date\": \"(days)\",\n",
    "    \"NumofDelayedPayment\": \"\",\n",
    "\t\"ChangedCreditLimit\": \"\",\n",
    "\t\"NumCreditInquiries\": \"\",\n",
    "    \"OutstandingDebt\": \"($)\",\n",
    "\t\"CreditUtilizationRatio\": \"\",\n",
    "\t\"TotalEMIpermonth\": \"($)\",\n",
    "    \"Amountinvestedmonthly\": \"($)\",\n",
    "\t\"MonthlyBalance\": \"($)\",\n",
    "    \"CreditHistoryAge\": \"(Years)\"\n",
    "}\n",
    "\n",
    "hist_age = df[\"Credit_History_Age\"]\n",
    "hist_vals = []\n",
    "\n",
    "for val in hist_age:\n",
    "    matches = re.findall(r'(\\d+) Years and (\\d+) Months', str(val))\n",
    "    if matches == []:\n",
    "        hist_vals += [np.nan]\n",
    "    else:\n",
    "        hist_vals += [float(matches[0][0]) + ((float(matches[0][1])-1)/12) ,]\n",
    "\n",
    "df[\"CreditHistoryAge\"] = hist_vals\n",
    "\n",
    "t = df.select_dtypes(include=['number', 'float'])\n",
    "t[\"Age\"] = pd.to_numeric(df['Age'], errors='coerce')\n",
    "variables = t.columns\n",
    "rows, cols = ds.define_grid(len(variables))\n",
    "fig, axs = plt.subplots(rows, cols, figsize=(cols*ds.HEIGHT, rows*ds.HEIGHT))\n",
    "i, j = 0, 0\n",
    "for n in range(len(variables)):\n",
    "    axs[i, j].set_title('Histogram for %s' % variables[n])\n",
    "    axs[i, j].set_xlabel(f'{variables[n]} {units[variables[n]]}')\n",
    "    axs[i, j].set_ylabel('Number of Records')\n",
    "\n",
    "    # Adjusting the rwidth parameter to increase the distance between bars along the x-axis\n",
    "    axs[i, j].hist(t[variables[n]].values, \"auto\", color='lightblue', rwidth=0.9)  # Adjust rwidth\n",
    "\n",
    "    i, j = (i + 1, 0) if (n + 1) % cols == 0 else (i, j + 1)\n",
    "\n",
    "savefig(f\"images/dim_dist/fig_8_histogram_numeric.png\")  # Save the figure\n",
    "show()"
   ]
  },
  {
   "cell_type": "markdown",
   "metadata": {},
   "source": [
    "*Simbólicos*"
   ]
  },
  {
   "cell_type": "code",
   "execution_count": null,
   "metadata": {},
   "outputs": [],
   "source": [
    "# Select columns with numerical and string data types\n",
    "from matplotlib import pyplot as plt\n",
    "import dslabs_functions as ds\n",
    "\n",
    "string_cols = df.select_dtypes(include=\"object\").columns\n",
    "symbolic_cols = [col for col in string_cols if col not in [\"ID\", \"Name\", \"Customer_ID\", \"SSN\", \"Age\", \"Credit_History_Age\"]]\n",
    "\n",
    "# Combine numerical and string columns\n",
    "rows, cols = ds.define_grid(len(symbolic_cols))\n",
    "\n",
    "print(cols * ds.HEIGHT, rows * ds.HEIGHT)\n",
    "fig, axs = plt.subplots(rows, cols, figsize=(cols * ds.HEIGHT, rows * ds.HEIGHT))\n",
    "i, j = 0, 0\n",
    "plt.subplots_adjust(hspace=1)\n",
    "\n",
    "            \n",
    "types = df[\"Type_of_Loan\"]\n",
    "\n",
    "types_values = []\n",
    "for text in types:\n",
    "    matches = re.findall(r'([\\w\\s-]+)(?:, | and |$)', str(text))\n",
    "    m_filtered = [m if \"and\" not in m else m[4:] for m in matches]\n",
    "    types_values += m_filtered\n",
    "\n",
    "final = pd.Series(types_values).value_counts()\n",
    "\n",
    "axs[i, j].set_title('Histogram for %s' % \"Type_of_Loan\")\n",
    "axs[i, j].set_xlabel(\"Type_of_Loan\")\n",
    "axs[i, j].set_ylabel('Number of Records')\n",
    "axs[i, j].bar(final.index, final.values, color = \"lightblue\")\n",
    "axs[i, j].set_xticklabels(final.index, rotation=90)\n",
    "i, j = i, j+1\n",
    "\n",
    "for col in symbolic_cols:\n",
    "    if col != \"Type_of_Loan\":\n",
    "        axs[i, j].set_title('Histogram for %s' % col)\n",
    "        axs[i, j].set_xlabel(col)\n",
    "        axs[i, j].set_ylabel('Number of Records')\n",
    "        value_counts = df[col].value_counts()\n",
    "        axs[i, j].bar(value_counts.index, value_counts.values, color='lightblue')\n",
    "        axs[i, j].set_xticklabels(value_counts.index, rotation=90)\n",
    "        i, j = (i + 1, 0) if (j + 1) % cols == 0 else (i, j + 1)\n",
    "\n",
    "plt.savefig(f\"images/dim_dist/fig_8_histogram_symbolic.png\")  # Save the figure\n",
    "plt.show()"
   ]
  },
  {
   "cell_type": "code",
   "execution_count": null,
   "metadata": {},
   "outputs": [],
   "source": [
    "from pandas import Series\n",
    "\n",
    "target = \"Credit_Score\"\n",
    "\n",
    "values: Series = df[target].value_counts()\n",
    "print(values)\n",
    "\n",
    "figure(figsize=(4, 2))\n",
    "plot_bar_chart(\n",
    "    values.index.to_list(),\n",
    "    values.to_list(),\n",
    "    title=f\"Target distribution (target={target})\",\n",
    ")\n",
    "savefig(f\"images/dim_dist/fig_12_class_distribution.png\")\n",
    "show()"
   ]
  },
  {
   "cell_type": "markdown",
   "metadata": {},
   "source": [
    "*Try to fit different known distributions*"
   ]
  },
  {
   "cell_type": "code",
   "execution_count": null,
   "metadata": {},
   "outputs": [],
   "source": [
    "# from matplotlib.pyplot import subplots\n",
    "# from dslabs_functions import set_chart_labels\n",
    "# from dslabs_functions import define_grid, HEIGHT\n",
    "# from numpy import log\n",
    "# from pandas import Series\n",
    "# from scipy.stats import norm, expon, lognorm\n",
    "# from matplotlib.axes import Axes\n",
    "# from dslabs_functions import plot_multiline_chart\n",
    "\n",
    "# def compute_known_distributions(x_values: list) -> dict:\n",
    "#     distributions = dict()\n",
    "#     # Gaussian\n",
    "#     mean, sigma = norm.fit(x_values)\n",
    "#     distributions[\"Normal(%.1f,%.2f)\" % (mean, sigma)] = norm.pdf(x_values, mean, sigma)\n",
    "#     # Exponential\n",
    "#     loc, scale = expon.fit(x_values)\n",
    "#     distributions[\"Exp(%.2f)\" % (1 / scale)] = expon.pdf(x_values, loc, scale)\n",
    "#     # LogNorm\n",
    "#     sigma, loc, scale = lognorm.fit(x_values)\n",
    "#     distributions[\"LogNor(%.1f,%.2f)\" % (log(scale), sigma)] = lognorm.pdf(\n",
    "#         x_values, sigma, loc, scale\n",
    "#     )\n",
    "#     return distributions\n",
    "\n",
    "\n",
    "# def histogram_with_distributions(ax: Axes, series: Series, var: str):\n",
    "#     values: list = series.sort_values().to_list()\n",
    "#     ax.hist(values, 20, density=True)\n",
    "#     distributions: dict = compute_known_distributions(values)\n",
    "#     plot_multiline_chart(\n",
    "#         values,\n",
    "#         distributions,\n",
    "#         ax=ax,\n",
    "#         title=\"Best fit for %s\" % var,\n",
    "#         xlabel=var,\n",
    "#         ylabel=\"\",\n",
    "#     )\n",
    "\n",
    "# if [] != numeric:\n",
    "#     rows: int\n",
    "#     cols: int\n",
    "#     rows, cols = define_grid(len(numeric))\n",
    "#     fig, axs = subplots(\n",
    "#         rows, cols, figsize=(cols * HEIGHT, rows * HEIGHT), squeeze=False\n",
    "#     )\n",
    "#     i: int\n",
    "#     j: int\n",
    "#     i, j = 0, 0\n",
    "#     for n in range(len(numeric)-14):\n",
    "#         histogram_with_distributions(axs[i, j], df[numeric[n]].dropna(), numeric[n])        \n",
    "#         i, j = (i + 1, 0) if (n + 1) % cols == 0 else (i, j + 1)\n",
    "#     show()"
   ]
  },
  {
   "cell_type": "markdown",
   "metadata": {},
   "source": [
    "#### Figure 10 Outlier Study"
   ]
  },
  {
   "cell_type": "code",
   "execution_count": null,
   "metadata": {},
   "outputs": [],
   "source": []
  },
  {
   "cell_type": "markdown",
   "metadata": {},
   "source": [
    "#### Figure 12 Class Distribution"
   ]
  },
  {
   "cell_type": "code",
   "execution_count": null,
   "metadata": {},
   "outputs": [],
   "source": []
  }
 ],
 "metadata": {
  "kernelspec": {
   "display_name": "Python 3",
   "language": "python",
   "name": "python3"
  },
  "language_info": {
   "codemirror_mode": {
    "name": "ipython",
    "version": 3
   },
   "file_extension": ".py",
   "mimetype": "text/x-python",
   "name": "python",
   "nbconvert_exporter": "python",
   "pygments_lexer": "ipython3",
   "version": "3.12.0"
  }
 },
 "nbformat": 4,
 "nbformat_minor": 2
}
