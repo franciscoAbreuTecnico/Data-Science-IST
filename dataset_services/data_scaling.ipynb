{
 "cells": [
  {
   "cell_type": "markdown",
   "metadata": {},
   "source": [
    "# Projeto"
   ]
  },
  {
   "cell_type": "markdown",
   "metadata": {},
   "source": [
    "## Data Preparation"
   ]
  },
  {
   "cell_type": "markdown",
   "metadata": {},
   "source": [
    "### 2 Alternativas (mudar para 3 se houver tempo):\n",
    "1. Standard Scaler\n",
    "\n",
    "2. MinMax Scaler - aplicar nas simbolicas tambem, o grafico fica com valores acima de 1 senao o fizer\n",
    "\n",
    "3. Aplicar os dois ao mesmo tempo em diff colunas"
   ]
  },
  {
   "cell_type": "code",
   "execution_count": 3,
   "metadata": {},
   "outputs": [
    {
     "name": "stdout",
     "output_type": "stream",
     "text": [
      "Dataset nr records=100000 nr variables=32\n",
      "Index(['Month', 'Occupation', 'Payment_of_Min_Amount', 'CreditMix',\n",
      "       'Payment_Behaviour', 'Payday Loan', 'Personal Loan',\n",
      "       'Debt Consolidation Loan', 'Auto Loan', 'Not Specified Loan',\n",
      "       'Student Loan', 'Credit-Builder Loan', 'Mortgage Loan',\n",
      "       'Home Equity Loan', 'Credit_Score', 'Age', 'Annual_Income',\n",
      "       'Monthly_Inhand_Salary', 'Num_Bank_Accounts', 'Num_Credit_Card',\n",
      "       'Interest_Rate', 'NumofLoan', 'Delay_from_due_date',\n",
      "       'NumofDelayedPayment', 'ChangedCreditLimit', 'NumCreditInquiries',\n",
      "       'OutstandingDebt', 'CreditUtilizationRatio', 'Credit_History_Age',\n",
      "       'TotalEMIpermonth', 'Amountinvestedmonthly', 'MonthlyBalance'],\n",
      "      dtype='object')\n"
     ]
    }
   ],
   "source": [
    "import pandas as pd\n",
    "from sklearn.preprocessing import StandardScaler\n",
    "from sklearn.preprocessing import MinMaxScaler\n",
    "from matplotlib.pyplot import subplots, show\n",
    "from matplotlib.pyplot import savefig\n",
    "import dslabs_functions as dslabs\n",
    "from sklearn.model_selection import train_test_split\n",
    "#from matplotlib import figure\n",
    "from matplotlib.pyplot import figure\n",
    "\n",
    "\n",
    "## tratar da primeira coluna nos notebooks anteriores\n",
    "filename = 'data_preparation_csvs/outliers_treatment_csvs/outliers_alt2_median_data.csv'\n",
    "data_outliers: pd.DataFrame = pd.read_csv(filename, sep=',', decimal='.', na_values='')\n",
    "data_outliers_2 = data_outliers.copy()\n",
    "print(f\"Dataset nr records={data_outliers.shape[0]}\", f\"nr variables={data_outliers.shape[1]}\")\n",
    "print(data_outliers.columns)\n",
    "#print(data_encoded.dtypes)\n",
    "\n",
    "# xx = ['Month', 'Occupation', 'Payment_of_Min_Amount', 'CreditMix'\n",
    "#                  , 'Payment_Behaviour', 'Payday Loan', 'Personal Loan', 'Debt Consolidation Loan'\n",
    "#                  , 'Auto Loan', 'Not Specified Loan', 'Student Loan', 'Credit-Builder Loan'\n",
    "#                  , 'Mortgage Loan', 'Home Equity Loan', 'Credit_Score']\n",
    "nonScalerColumns = ['Credit_Score']"
   ]
  },
  {
   "cell_type": "code",
   "execution_count": 4,
   "metadata": {},
   "outputs": [
    {
     "name": "stdout",
     "output_type": "stream",
     "text": [
      "75220    1.0\n",
      "48955    1.0\n",
      "44966    1.0\n",
      "13568    1.0\n",
      "92727    1.0\n",
      "        ... \n",
      "6265     1.0\n",
      "54886    0.0\n",
      "76820    1.0\n",
      "860      1.0\n",
      "15795    0.0\n",
      "Name: Credit_Score, Length: 80000, dtype: float64\n",
      "75721    1.0\n",
      "80184    0.0\n",
      "19864    1.0\n",
      "76699    0.0\n",
      "92991    1.0\n",
      "        ... \n",
      "32595    1.0\n",
      "29313    1.0\n",
      "37862    0.0\n",
      "53421    1.0\n",
      "42410    1.0\n",
      "Name: Credit_Score, Length: 20000, dtype: float64\n"
     ]
    }
   ],
   "source": [
    "# Alternativa 1 - fa\n",
    "\n",
    "scaler: StandardScaler = StandardScaler(with_mean=True, with_std=True, copy=True)\n",
    "\n",
    "integer_data = data_outliers[nonScalerColumns]\n",
    "# Drop the integer columns from the dataset\n",
    "df_zscore = data_outliers.drop(columns=nonScalerColumns)\n",
    "# Perform scaling\n",
    "df_zscore = pd.DataFrame(scaler.fit_transform(df_zscore), columns=df_zscore.columns)\n",
    "# Append the integer columns back to the dataset\n",
    "df_zscore[nonScalerColumns] = integer_data\n",
    "df_zscore.to_csv(f\"data_preparation_csvs/scaling_csvs/data_scaled_zscore_alt1.csv\", index=False)\n",
    "\n",
    "# Separate into Train and Test and save in different f.iles\n",
    "train_data, test_data = train_test_split(df_zscore, test_size=0.2, random_state=42)\n",
    "\n",
    "## Save the training and testing sets to CSV files\n",
    "train_data.to_csv('data_preparation_csvs/scaling_csvs/train_data_scaled_zscore_alt1.csv', index=False)\n",
    "test_data.to_csv('data_preparation_csvs/scaling_csvs/test_data_scaled_zscore_alt1.csv', index=False)\n",
    "print(train_data['Credit_Score'])\n",
    "print(test_data['Credit_Score'])\n",
    "# ## Evaluate Approach\n",
    "# file_tag = 'Credit_Score'\n",
    "# target = 'Credit_Score'\n",
    "\n",
    "# figure()\n",
    "# eval: dict[str, list] = dslabs.evaluate_approach(train_data, test_data, target=target, metric=\"recall\")\n",
    "# dslabs.plot_multibar_chart(\n",
    "#     [\"NB\", \"KNN\"], eval, title=f\"{file_tag} evaluation\", percentage=True\n",
    "# )\n",
    "# savefig(f\"data_preparation_images/scaling_result/data_scaled_zscore_alt1_eval.png\")\n",
    "# show()"
   ]
  },
  {
   "cell_type": "code",
   "execution_count": 2,
   "metadata": {},
   "outputs": [
    {
     "name": "stdout",
     "output_type": "stream",
     "text": [
      "0       -0.971939\n",
      "1       -0.971939\n",
      "2        0.007115\n",
      "3       -0.971939\n",
      "4       -0.971939\n",
      "           ...   \n",
      "99995   -0.776129\n",
      "99996   -0.776129\n",
      "99997   -0.776129\n",
      "99998   -0.776129\n",
      "99999   -0.776129\n",
      "Name: Credit_Score, Length: 100000, dtype: float64\n"
     ]
    }
   ],
   "source": [
    "# Alternativa 1 - stora\n",
    "\n",
    "# target = \"Credit_Score\"\n",
    "# vars: list[str] = data_outliers.columns.to_list()\n",
    "# target_data: pd.Series = data_outliers.pop(target)\n",
    "\n",
    "# transf: StandardScaler = StandardScaler(with_mean=True, with_std=True, copy=True).fit(\n",
    "#     data_outliers\n",
    "# )\n",
    "# df_zscore = pd.DataFrame(transf.transform(data_outliers), index=data_outliers.index)\n",
    "# df_zscore[target] = target_data\n",
    "# df_zscore.columns = vars\n",
    "# df_zscore.to_csv(f\"data_preparation_csvs/scaling_csvs/data_scaled_zscore_alt1.csv\", index=False)\n",
    "\n",
    "# ## Separate into Train and Test and save in different files\n",
    "# train_data, test_data = train_test_split(df_zscore, test_size=0.2, random_state=42)\n",
    "\n",
    "# ## Save the training and testing sets to CSV files\n",
    "# train_data.to_csv('data_preparation_csvs/scaling_csvs/train_data_scaled_zscore_alt1.csv', index=False)\n",
    "# test_data.to_csv('data_preparation_csvs/scaling_csvs/test_data_scaled_zscore_alt1.csv', index=False)\n",
    "\n",
    "# ## Evaluate Approach\n",
    "# file_tag = 'Credit_Score'\n",
    "# target = 'Credit_Score'\n",
    "\n",
    "# figure()\n",
    "# eval: dict[str, list] = dslabs.evaluate_approach(train_data, train_data, target=target, metric=\"recall\")\n",
    "# dslabs.plot_multibar_chart(\n",
    "#     [\"NB\", \"KNN\"], eval, title=f\"{file_tag} evaluation\", percentage=True\n",
    "# )\n",
    "# savefig(f\"data_preparation_images/scaling_result/data_scaled_zscore_alt1_eval.png\")\n",
    "# show()\n",
    "\n",
    "# print(df_zscore[\"Credit_Score\"])"
   ]
  },
  {
   "cell_type": "code",
   "execution_count": null,
   "metadata": {},
   "outputs": [],
   "source": [
    "import numpy as np\n",
    "import pandas as pd\n",
    "\n",
    "# Assuming data_outliers is your DataFrame and 'Credit_Score' is the target variable\n",
    "# data_outliers = pd.DataFrame(...)\n",
    "\n",
    "target = \"Credit_Score\"\n",
    "vars: list[str] = data_outliers.columns.to_list()\n",
    "target_data: pd.Series = data_outliers.pop(target)\n",
    "\n",
    "# Applying log transformation to the numeric columns\n",
    "# We use np.log1p to ensure that the log transformation handles zeros gracefully\n",
    "data_outliers_log_transformed = np.log1p(data_outliers.select_dtypes(include=[np.number]))\n",
    "\n",
    "# Create a new DataFrame with the log-transformed data\n",
    "df_log_transformed = pd.DataFrame(data_outliers_log_transformed, index=data_outliers.index)\n",
    "\n",
    "# Add the target column back to the DataFrame\n",
    "df_log_transformed[target] = target_data\n",
    "\n",
    "# Setting the original column names\n",
    "df_log_transformed.columns = vars\n",
    "\n",
    "# Save the transformed data to a CSV file\n",
    "df_log_transformed.to_csv(\"data_preparation_csvs/scaling_csvs/data_scaled_log_alt1.csv\", index=False)"
   ]
  },
  {
   "cell_type": "code",
   "execution_count": null,
   "metadata": {},
   "outputs": [],
   "source": [
    "# Alternativa 2 - fa\n",
    "\n",
    "transf: MinMaxScaler = MinMaxScaler(feature_range=(0, 1), copy=True)\n",
    "\n",
    "integer_data_2 = data_outliers[nonScalerColumns]\n",
    "# Drop the integer columns from the dataset\n",
    "df_minmax  = data_outliers.drop(columns=nonScalerColumns)\n",
    "# Perform scaling\n",
    "df_minmax  = pd.DataFrame(transf.fit_transform(df_minmax), columns=df_minmax.columns)\n",
    "# Append the integer columns back to the dataset\n",
    "df_minmax [nonScalerColumns] = integer_data_2\n",
    "\n",
    "df_minmax.to_csv(f\"data_preparation_csvs/scaling_csvs/data_scaled_minmax_alt2.csv\", index=False)\n",
    "\n",
    "## Separate into Train and Test and save in different files\n",
    "train_data2, test_data2 = train_test_split(df_minmax, test_size=0.2, random_state=42)\n",
    "\n",
    "## Save the training and testing sets to CSV files\n",
    "train_data2.to_csv('data_preparation_csvs/scaling_csvs/train_data_scaled_minmax_alt2.csv', index=False)\n",
    "test_data2.to_csv('data_preparation_csvs/scaling_csvs/test_data_scaled_minmax_alt2.csv', index=False)\n",
    "print(train_data2['Credit_Score'])\n",
    "print(test_data2['Credit_Score'])\n",
    "## Evaluate Approach\n",
    "file_tag = \"Credit_Score\"\n",
    "target = \"Credit_Score\"\n",
    "\n",
    "figure()\n",
    "eval: dict[str, list] = dslabs.evaluate_approach(train_data2, test_data2, target=target, metric=\"recall\")\n",
    "dslabs.plot_multibar_chart(\n",
    "    [\"NB\", \"KNN\"], eval, title=f\"{file_tag} evaluation\", percentage=True\n",
    ")\n",
    "savefig(f\"data_preparation_images/scaling_result/data_scaled_minmax_alt2_eval.png\")\n",
    "show()\n"
   ]
  },
  {
   "cell_type": "code",
   "execution_count": null,
   "metadata": {},
   "outputs": [],
   "source": [
    "# # Alternativa 2 - stora\n",
    "# target = 'Credit_Score'\n",
    "# target_data: pd.Series = data_outliers_2.pop(target)\n",
    "# transf: MinMaxScaler = MinMaxScaler(feature_range=(0, 1), copy=True).fit(data_outliers_2)\n",
    "# df_minmax = pd.DataFrame(transf.transform(data_outliers_2), index=data_outliers_2.index)\n",
    "# df_minmax[target] = target_data\n",
    "# df_minmax.columns = vars\n",
    "# df_minmax.to_csv(f\"data_preparation_csvs/scaling_csvs/data_scaled_minmax_alt2.csv\", index=False)"
   ]
  },
  {
   "cell_type": "code",
   "execution_count": null,
   "metadata": {},
   "outputs": [],
   "source": [
    "# Result of the transformed data with a single boxplot\n",
    "\n",
    "fig, axs = subplots(1, 3, figsize=(20, 10), squeeze=False)\n",
    "axs[0, 0].set_title(\"Original data\")\n",
    "data_outliers.boxplot(ax=axs[0, 0])\n",
    "axs[0, 1].set_title(\"Z-score normalization\")\n",
    "df_zscore.boxplot(ax=axs[0, 1])\n",
    "axs[0, 2].set_title(\"MinMax normalization\")\n",
    "df_minmax.boxplot(ax=axs[0, 2])\n",
    "savefig(f\"data_preparation_images/scaling_result/data_scaled_boxplot.png\")\n",
    "show()"
   ]
  }
 ],
 "metadata": {
  "kernelspec": {
   "display_name": "Python 3",
   "language": "python",
   "name": "python3"
  },
  "language_info": {
   "codemirror_mode": {
    "name": "ipython",
    "version": 3
   },
   "file_extension": ".py",
   "mimetype": "text/x-python",
   "name": "python",
   "nbconvert_exporter": "python",
   "pygments_lexer": "ipython3",
   "version": "3.12.0"
  }
 },
 "nbformat": 4,
 "nbformat_minor": 2
}
