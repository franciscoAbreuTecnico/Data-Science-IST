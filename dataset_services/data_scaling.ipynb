{
 "cells": [
  {
   "cell_type": "markdown",
   "metadata": {},
   "source": [
    "# Projeto"
   ]
  },
  {
   "cell_type": "markdown",
   "metadata": {},
   "source": [
    "## Data Preparation"
   ]
  },
  {
   "cell_type": "code",
   "execution_count": 8,
   "metadata": {},
   "outputs": [
    {
     "name": "stdout",
     "output_type": "stream",
     "text": [
      "Dataset nr records=100000 nr variables=33\n",
      "Index(['Unnamed: 0', 'Month', 'Occupation', 'Payment_of_Min_Amount',\n",
      "       'CreditMix', 'Payment_Behaviour', 'Payday Loan', 'Personal Loan',\n",
      "       'Debt Consolidation Loan', 'Auto Loan', 'Not Specified Loan',\n",
      "       'Student Loan', 'Credit-Builder Loan', 'Mortgage Loan',\n",
      "       'Home Equity Loan', 'Credit_Score', 'Age', 'Annual_Income',\n",
      "       'Monthly_Inhand_Salary', 'Num_Bank_Accounts', 'Num_Credit_Card',\n",
      "       'Interest_Rate', 'NumofLoan', 'Delay_from_due_date',\n",
      "       'NumofDelayedPayment', 'ChangedCreditLimit', 'NumCreditInquiries',\n",
      "       'OutstandingDebt', 'CreditUtilizationRatio', 'Credit_History_Age',\n",
      "       'TotalEMIpermonth', 'Amountinvestedmonthly', 'MonthlyBalance'],\n",
      "      dtype='object')\n",
      "Unnamed: 0                   int64\n",
      "Month                      float64\n",
      "Occupation                 float64\n",
      "Payment_of_Min_Amount      float64\n",
      "CreditMix                  float64\n",
      "Payment_Behaviour          float64\n",
      "Payday Loan                float64\n",
      "Personal Loan              float64\n",
      "Debt Consolidation Loan    float64\n",
      "Auto Loan                  float64\n",
      "Not Specified Loan         float64\n",
      "Student Loan               float64\n",
      "Credit-Builder Loan        float64\n",
      "Mortgage Loan              float64\n",
      "Home Equity Loan           float64\n",
      "Credit_Score               float64\n",
      "Age                        float64\n",
      "Annual_Income              float64\n",
      "Monthly_Inhand_Salary      float64\n",
      "Num_Bank_Accounts          float64\n",
      "Num_Credit_Card            float64\n",
      "Interest_Rate              float64\n",
      "NumofLoan                  float64\n",
      "Delay_from_due_date        float64\n",
      "NumofDelayedPayment        float64\n",
      "ChangedCreditLimit         float64\n",
      "NumCreditInquiries         float64\n",
      "OutstandingDebt            float64\n",
      "CreditUtilizationRatio     float64\n",
      "Credit_History_Age         float64\n",
      "TotalEMIpermonth           float64\n",
      "Amountinvestedmonthly      float64\n",
      "MonthlyBalance             float64\n",
      "dtype: object\n"
     ]
    }
   ],
   "source": [
    "import pandas as pd\n",
    "## tratar da primeira coluna nos notebooks anteriores\n",
    "filename = 'data_preparation_csvs/outliers_treatment_csvs/imputed_alt3_data.csv'\n",
    "data_encoded: pd.DataFrame = pd.read_csv(filename, sep=',', decimal='.', na_values='')\n",
    "print(f\"Dataset nr records={data_encoded.shape[0]}\", f\"nr variables={data_encoded.shape[1]}\")\n",
    "print(data_encoded.columns)\n",
    "print(data_encoded.dtypes)"
   ]
  },
  {
   "cell_type": "markdown",
   "metadata": {},
   "source": [
    "### 2 Alternativas (mudar para 3 se houver tempo):\n",
    "1. \n",
    "\n",
    "2. \n",
    "\n",
    "3. "
   ]
  }
 ],
 "metadata": {
  "kernelspec": {
   "display_name": "Python 3",
   "language": "python",
   "name": "python3"
  },
  "language_info": {
   "codemirror_mode": {
    "name": "ipython",
    "version": 3
   },
   "file_extension": ".py",
   "mimetype": "text/x-python",
   "name": "python",
   "nbconvert_exporter": "python",
   "pygments_lexer": "ipython3",
   "version": "3.12.0"
  }
 },
 "nbformat": 4,
 "nbformat_minor": 2
}
